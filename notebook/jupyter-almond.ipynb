{
 "cells": [
  {
   "cell_type": "markdown",
   "metadata": {},
   "source": [
    "SMILE (Statistical Machine Intelligence & Learning Engine)\n",
    "==========================================================\n",
    "\n",
    "Smile is a fast and comprehensive machine learning, NLP, linear algebra,\n",
    "graph, interpolation, and visualization system in Java and Scala.\n",
    "With advanced data structures and algorithms, Smile delivers state-of-art performance.\n",
    "\n",
    "Smile covers every aspect of machine learning, including classification,\n",
    "regression, clustering, association rule mining, feature selection,\n",
    "manifold learning, multidimensional scaling, genetic algorithms,\n",
    "missing value imputation, efficient nearest neighbor search, etc.\n",
    "\n",
    "Smile is well documented and please check out the [project website](http://haifengl.github.io/)\n",
    "for programming guides and more information."
   ]
  },
  {
   "cell_type": "code",
   "execution_count": null,
   "metadata": {},
   "outputs": [],
   "source": [
    "import $ivy.`com.github.haifengl::smile-scala:2.1.0`\n",
    "\n",
    "import scala.language.postfixOps\n",
    "import org.apache.commons.csv.CSVFormat\n",
    "import smile._\n",
    "import smile.util._\n",
    "import smile.math._\n",
    "import smile.math.MathEx.{log2, logistic, factorial, lfactorial, choose, lchoose, random, randomInt, permutate, c, cbind, rbind, sum, mean, median, q1, q3, `var` => variance, sd, mad, min, max, whichMin, whichMax, unique, dot, distance, pdist, KullbackLeiblerDivergence => kld, JensenShannonDivergence => jsd, cov, cor, spearman, kendall, norm, norm1, norm2, normInf, standardize, normalize, scale, unitize, unitize1, unitize2, root}\n",
    "import smile.math.distance._\n",
    "import smile.math.kernel._\n",
    "import smile.math.matrix._\n",
    "import smile.math.matrix.Matrix._\n",
    "import smile.math.rbf._\n",
    "import smile.stat.distribution._\n",
    "import smile.data._\n",
    "import smile.data.formula._\n",
    "import smile.data.measure._\n",
    "import smile.data.`type`._\n",
    "import smile.json._\n",
    "import smile.interpolation._\n",
    "import smile.validation._\n",
    "import smile.association._\n",
    "import smile.base.cart.SplitRule\n",
    "import smile.base.mlp._\n",
    "import smile.base.rbf.RBF\n",
    "import smile.classification._\n",
    "import smile.regression.{ols, ridge, lasso, svr, gpr}\n",
    "import smile.feature._\n",
    "import smile.clustering._\n",
    "import smile.vq._\n",
    "import smile.manifold._\n",
    "import smile.mds._\n",
    "import smile.sequence._\n",
    "import smile.projection._\n",
    "import smile.nlp._\n",
    "import smile.wavelet._"
   ]
  },
  {
   "cell_type": "markdown",
   "metadata": {},
   "source": [
    "Smile integrates Vega-Lite for interactive data visualization. Vega-Lite is a high-level grammar of interactive graphics. It provides a concise JSON syntax for rapid generating visualizations to support analysis. With Smile, you plot data in an intutive functional way instead of learning JSON grammar of Vega-Lite. To use Vega-Lite based plot funcitons, please run the below code."
   ]
  },
  {
   "cell_type": "code",
   "execution_count": null,
   "metadata": {},
   "outputs": [],
   "source": [
    "import smile.plot.vega._\n",
    "import smile.plot.show\n",
    "\n",
    "implicit def almond(spec: JsObject): Unit = {\n",
    "  publish.html(iframe(spec))\n",
    "}"
   ]
  },
  {
   "cell_type": "code",
   "execution_count": null,
   "metadata": {},
   "outputs": [],
   "source": [
    "Smile also provides Swing-based data visualization. "
   ]
  },
  {
   "cell_type": "code",
   "execution_count": null,
   "metadata": {},
   "outputs": [],
   "source": [
    "import smile.plot.swing._\n",
    "import smile.plot.show\n",
    "\n",
    "System.setProperty(\"java.awt.headless\", \"true\")\n",
    "implicit def almond(canvas: javax.swing.JComponent): Unit = {\n",
    "  publish.html(smile.plot.swing.img(canvas))\n",
    "}"
   ]
  },
  {
   "cell_type": "code",
   "execution_count": null,
   "metadata": {},
   "outputs": [],
   "source": [
    "val iris = read.arff(\"../shell/src/universal/data/weka/iris.arff\")"
   ]
  },
  {
   "cell_type": "code",
   "execution_count": null,
   "metadata": {},
   "outputs": [],
   "source": [
    "show(spm(iris, clazz=Some(\"class\")))"
   ]
  },
  {
   "cell_type": "code",
   "execution_count": null,
   "metadata": {},
   "outputs": [],
   "source": [
    "show(smile.plot.swing.plot(iris, 'o'))"
   ]
  },
  {
   "cell_type": "code",
   "execution_count": null,
   "metadata": {},
   "outputs": [],
   "source": [
    "import java.lang.Math\n",
    "val heart = -314 to 314 map { i =>\n",
    "    val t = i / 100.0\n",
    "    val x = 16 * Math.pow(Math.sin(t), 3)\n",
    "    val y = 13 * Math.cos(t) - 5 * Math.cos(2*t) - 2 * Math.cos(3*t) - Math.cos(4*t)\n",
    "    Array(x, y)\n",
    "}"
   ]
  },
  {
   "cell_type": "code",
   "execution_count": null,
   "metadata": {},
   "outputs": [],
   "source": [
    "show(plot(heart.toArray))"
   ]
  },
  {
   "cell_type": "code",
   "execution_count": null,
   "metadata": {},
   "outputs": [],
   "source": [
    "val model = randomForest(\"class\"~, iris)"
   ]
  },
  {
   "cell_type": "code",
   "execution_count": null,
   "metadata": {},
   "outputs": [],
   "source": [
    "model.predict(iris)"
   ]
  },
  {
   "cell_type": "code",
   "execution_count": null,
   "metadata": {},
   "outputs": [],
   "source": [
    "val mat = matrix(100, 100)"
   ]
  }
 ],
 "metadata": {
  "kernelspec": {
   "display_name": "Scala (2.13)",
   "language": "scala",
   "name": "scala213"
  },
  "language_info": {
   "codemirror_mode": "text/x-scala",
   "file_extension": ".scala",
   "mimetype": "text/x-scala",
   "name": "scala",
   "nbconvert_exporter": "script",
   "version": "2.13.1"
  },
  "toc": {
   "base_numbering": 1,
   "nav_menu": {},
   "number_sections": false,
   "sideBar": false,
   "skip_h1_title": false,
   "title_cell": "Table of Contents",
   "title_sidebar": "Contents",
   "toc_cell": false,
   "toc_position": {},
   "toc_section_display": false,
   "toc_window_display": false
  }
 },
 "nbformat": 4,
 "nbformat_minor": 4
}
