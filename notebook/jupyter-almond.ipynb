{
 "cells": [
  {
   "cell_type": "code",
   "execution_count": 1,
   "metadata": {},
   "outputs": [
    {
     "data": {
      "text/plain": [
       "\u001b[32mimport \u001b[39m\u001b[36m$ivy.$                                       \n",
       "\n",
       "\u001b[39m\n",
       "\u001b[32mimport \u001b[39m\u001b[36mscala.language.postfixOps\n",
       "\u001b[39m\n",
       "\u001b[32mimport \u001b[39m\u001b[36morg.apache.commons.csv.CSVFormat\n",
       "\u001b[39m\n",
       "\u001b[32mimport \u001b[39m\u001b[36msmile._\n",
       "\u001b[39m\n",
       "\u001b[32mimport \u001b[39m\u001b[36msmile.util._\n",
       "\u001b[39m\n",
       "\u001b[32mimport \u001b[39m\u001b[36msmile.math._\n",
       "\u001b[39m\n",
       "\u001b[32mimport \u001b[39m\u001b[36msmile.math.MathEx.{log2, logistic, factorial, lfactorial, choose, lchoose, random, randomInt, permutate, c, cbind, rbind, sum, mean, median, q1, q3, `var` => variance, sd, mad, min, max, whichMin, whichMax, unique, dot, distance, pdist, KullbackLeiblerDivergence => kld, JensenShannonDivergence => jsd, cov, cor, spearman, kendall, norm, norm1, norm2, normInf, standardize, normalize, scale, unitize, unitize1, unitize2, root}\n",
       "\u001b[39m\n",
       "\u001b[32mimport \u001b[39m\u001b[36msmile.math.distance._\n",
       "\u001b[39m\n",
       "\u001b[32mimport \u001b[39m\u001b[36msmile.math.kernel._\n",
       "\u001b[39m\n",
       "\u001b[32mimport \u001b[39m\u001b[36msmile.math.matrix._\n",
       "\u001b[39m\n",
       "\u001b[32mimport \u001b[39m\u001b[36msmile.math.matrix.Matrix._\n",
       "\u001b[39m\n",
       "\u001b[32mimport \u001b[39m\u001b[36msmile.math.rbf._\n",
       "\u001b[39m\n",
       "\u001b[32mimport \u001b[39m\u001b[36msmile.stat.distribution._\n",
       "\u001b[39m\n",
       "\u001b[32mimport \u001b[39m\u001b[36msmile.data._\n",
       "\u001b[39m\n",
       "\u001b[32mimport \u001b[39m\u001b[36msmile.data.formula._\n",
       "\u001b[39m\n",
       "\u001b[32mimport \u001b[39m\u001b[36msmile.data.measure._\n",
       "\u001b[39m\n",
       "\u001b[32mimport \u001b[39m\u001b[36msmile.data.`type`._\n",
       "\u001b[39m\n",
       "\u001b[32mimport \u001b[39m\u001b[36msmile.json._\n",
       "\u001b[39m\n",
       "\u001b[32mimport \u001b[39m\u001b[36msmile.interpolation._\n",
       "\u001b[39m\n",
       "\u001b[32mimport \u001b[39m\u001b[36msmile.validation._\n",
       "\u001b[39m\n",
       "\u001b[32mimport \u001b[39m\u001b[36msmile.association._\n",
       "\u001b[39m\n",
       "\u001b[32mimport \u001b[39m\u001b[36msmile.base.cart.SplitRule\n",
       "\u001b[39m\n",
       "\u001b[32mimport \u001b[39m\u001b[36msmile.base.mlp._\n",
       "\u001b[39m\n",
       "\u001b[32mimport \u001b[39m\u001b[36msmile.base.rbf.RBF\n",
       "\u001b[39m\n",
       "\u001b[32mimport \u001b[39m\u001b[36msmile.classification._\n",
       "\u001b[39m\n",
       "\u001b[32mimport \u001b[39m\u001b[36msmile.regression.{ols, ridge, lasso, svr, gpr}\n",
       "\u001b[39m\n",
       "\u001b[32mimport \u001b[39m\u001b[36msmile.feature._\n",
       "\u001b[39m\n",
       "\u001b[32mimport \u001b[39m\u001b[36msmile.clustering._\n",
       "\u001b[39m\n",
       "\u001b[32mimport \u001b[39m\u001b[36msmile.vq._\n",
       "\u001b[39m\n",
       "\u001b[32mimport \u001b[39m\u001b[36msmile.manifold._\n",
       "\u001b[39m\n",
       "\u001b[32mimport \u001b[39m\u001b[36msmile.mds._\n",
       "\u001b[39m\n",
       "\u001b[32mimport \u001b[39m\u001b[36msmile.sequence._\n",
       "\u001b[39m\n",
       "\u001b[32mimport \u001b[39m\u001b[36msmile.projection._\n",
       "\u001b[39m\n",
       "\u001b[32mimport \u001b[39m\u001b[36msmile.nlp._\n",
       "\u001b[39m\n",
       "\u001b[32mimport \u001b[39m\u001b[36msmile.wavelet._\u001b[39m"
      ]
     },
     "execution_count": 1,
     "metadata": {},
     "output_type": "execute_result"
    }
   ],
   "source": [
    "import $ivy.`com.github.haifengl::smile-scala:2.1.0`\n",
    "\n",
    "import scala.language.postfixOps\n",
    "import org.apache.commons.csv.CSVFormat\n",
    "import smile._\n",
    "import smile.util._\n",
    "import smile.math._\n",
    "import smile.math.MathEx.{log2, logistic, factorial, lfactorial, choose, lchoose, random, randomInt, permutate, c, cbind, rbind, sum, mean, median, q1, q3, `var` => variance, sd, mad, min, max, whichMin, whichMax, unique, dot, distance, pdist, KullbackLeiblerDivergence => kld, JensenShannonDivergence => jsd, cov, cor, spearman, kendall, norm, norm1, norm2, normInf, standardize, normalize, scale, unitize, unitize1, unitize2, root}\n",
    "import smile.math.distance._\n",
    "import smile.math.kernel._\n",
    "import smile.math.matrix._\n",
    "import smile.math.matrix.Matrix._\n",
    "import smile.math.rbf._\n",
    "import smile.stat.distribution._\n",
    "import smile.data._\n",
    "import smile.data.formula._\n",
    "import smile.data.measure._\n",
    "import smile.data.`type`._\n",
    "import smile.json._\n",
    "import smile.interpolation._\n",
    "import smile.validation._\n",
    "import smile.association._\n",
    "import smile.base.cart.SplitRule\n",
    "import smile.base.mlp._\n",
    "import smile.base.rbf.RBF\n",
    "import smile.classification._\n",
    "import smile.regression.{ols, ridge, lasso, svr, gpr}\n",
    "import smile.feature._\n",
    "import smile.clustering._\n",
    "import smile.vq._\n",
    "import smile.manifold._\n",
    "import smile.mds._\n",
    "import smile.sequence._\n",
    "import smile.projection._\n",
    "import smile.nlp._\n",
    "import smile.wavelet._"
   ]
  },
  {
   "cell_type": "code",
   "execution_count": 2,
   "metadata": {},
   "outputs": [
    {
     "data": {
      "text/plain": [
       "\u001b[32mimport \u001b[39m\u001b[36msmile.plot.vega._\n",
       "\u001b[39m\n",
       "\u001b[32mimport \u001b[39m\u001b[36msmile.plot.show\n",
       "\n",
       "\u001b[39m\n",
       "defined \u001b[32mfunction\u001b[39m \u001b[36malmond\u001b[39m"
      ]
     },
     "execution_count": 2,
     "metadata": {},
     "output_type": "execute_result"
    }
   ],
   "source": [
    "import smile.plot.vega._\n",
    "import smile.plot.show\n",
    "\n",
    "implicit def almond(spec: JsObject): Unit = {\n",
    "  publish.html(iframe(spec))\n",
    "}"
   ]
  },
  {
   "cell_type": "code",
   "execution_count": 8,
   "metadata": {},
   "outputs": [
    {
     "data": {
      "text/plain": [
       "\u001b[32mimport \u001b[39m\u001b[36msmile.plot.swing._\n",
       "\u001b[39m\n",
       "\u001b[32mimport \u001b[39m\u001b[36msmile.plot.show\n",
       "\n",
       "\u001b[39m\n",
       "\u001b[36mres7_2\u001b[39m: \u001b[32mString\u001b[39m = \u001b[32m\"true\"\u001b[39m\n",
       "defined \u001b[32mfunction\u001b[39m \u001b[36malmond\u001b[39m"
      ]
     },
     "execution_count": 8,
     "metadata": {},
     "output_type": "execute_result"
    }
   ],
   "source": [
    "import smile.plot.swing._\n",
    "import smile.plot.show\n",
    "\n",
    "System.setProperty(\"java.awt.headless\", \"true\")\n",
    "implicit def almond(canvas: javax.swing.JComponent): Unit = {\n",
    "  publish.html(smile.plot.swing.img(canvas))\n",
    "}"
   ]
  },
  {
   "cell_type": "code",
   "execution_count": 3,
   "metadata": {},
   "outputs": [
    {
     "name": "stderr",
     "output_type": "stream",
     "text": [
      "SLF4J: Failed to load class \"org.slf4j.impl.StaticLoggerBinder\".\n",
      "SLF4J: Defaulting to no-operation (NOP) logger implementation\n",
      "SLF4J: See http://www.slf4j.org/codes.html#StaticLoggerBinder for further details.\n"
     ]
    },
    {
     "data": {
      "text/plain": [
       "\u001b[36miris\u001b[39m: \u001b[32mDataFrame\u001b[39m = +-----------+----------+-----------+----------+-----------+\n",
       "|sepallength|sepalwidth|petallength|petalwidth|      class|\n",
       "+-----------+----------+-----------+----------+-----------+\n",
       "|        5.1|       3.5|        1.4|       0.2|Iris-setosa|\n",
       "|        4.9|         3|        1.4|       0.2|Iris-setosa|\n",
       "|        4.7|       3.2|        1.3|       0.2|Iris-setosa|\n",
       "|        4.6|       3.1|        1.5|       0.2|Iris-setosa|\n",
       "|          5|       3.6|        1.4|       0.2|Iris-setosa|\n",
       "|        5.4|       3.9|        1.7|       0.4|Iris-setosa|\n",
       "|        4.6|       3.4|        1.4|       0.3|Iris-setosa|\n",
       "|          5|       3.4|        1.5|       0.2|Iris-setosa|\n",
       "|        4.4|       2.9|        1.4|       0.2|Iris-setosa|\n",
       "|        4.9|       3.1|        1.5|       0.1|Iris-setosa|\n",
       "+-----------+----------+-----------+----------+-----------+\n",
       "140 more rows...\n"
      ]
     },
     "execution_count": 3,
     "metadata": {},
     "output_type": "execute_result"
    }
   ],
   "source": [
    "val iris = read.arff(\"../shell/src/universal/data/weka/iris.arff\")"
   ]
  },
  {
   "cell_type": "code",
   "execution_count": 3,
   "metadata": {},
   "outputs": [
    {
     "name": "stderr",
     "output_type": "stream",
     "text": [
      "cmd3.sc:1: not found: value spm\n",
      "val res3 = show(spm(iris, clazz=Some(\"class\")))\n",
      "                ^cmd3.sc:1: not found: value clazz\n",
      "val res3 = show(spm(iris, clazz=Some(\"class\")))\n",
      "                          ^Compilation Failed"
     ]
    },
    {
     "ename": "",
     "evalue": "",
     "output_type": "error",
     "traceback": [
      "Compilation Failed"
     ]
    }
   ],
   "source": [
    "show(spm(iris, clazz=Some(\"class\")))"
   ]
  },
  {
   "cell_type": "code",
   "execution_count": 6,
   "metadata": {},
   "outputs": [
    {
     "data": {
      "text/html": [
       "<img src=\"data:image/png;base64,iVBORw0KGgoAAAANSUhEUgAAAH4AAAATCAYAAABWSbkMAAABW0lEQVR42u3YIauDUBQH8An7LktmEcwK1rHkh1gXi1UwyMLcPoArdsHZLOYVg8UkyIaGMViZ//cUXniPZ3i8e8P0HDjFcrzevz8udwGqWdaCPsFMN/6zMNbX65XJkLquR7vrOmaLuVwu8DwPlmUhjmM8n0/WH2toQRAgyzIcx0FRFFxm/OzVaoX7/c5uTr+Isb7dblwX827hUlUV+/0eVVXx/BNxOByw2WygKAratoWmaRBFEa/Xiy/1hmHgdDoxG/JbqL7+nHcP13q9HjaKVbj6903TFLvdDsvlEk3TQJKk4Xme50Q9UU/UE/WsqHddF1mWcaV+KuGybRtRFHGlvg8BUU/UE/VE/T/mBEGAx+PB9bJgKuHyfR9lWXINV/++5/P5G/XH45GoJ+qJeqKeTvV0qifqiXqinqj/I/WmaSJJEq7UT+WufrvdIgxDrtTrus6eelDNsmjjZ1ofm+6vk1CvRi4AAAAASUVORK5CYII=\">"
      ]
     },
     "metadata": {},
     "output_type": "display_data"
    },
    {
     "data": {
      "text/plain": [
       "\u001b[32mimport \u001b[39m\u001b[36msmile.plot.swing._\n",
       "\u001b[39m"
      ]
     },
     "execution_count": 6,
     "metadata": {},
     "output_type": "execute_result"
    }
   ],
   "source": [
    "show(smile.plot.swing.plot(iris, 'o'))"
   ]
  },
  {
   "cell_type": "code",
   "execution_count": 5,
   "metadata": {},
   "outputs": [
    {
     "data": {
      "text/plain": [
       "\u001b[32mimport \u001b[39m\u001b[36mjava.lang.Math\n",
       "\u001b[39m\n",
       "\u001b[36mheart\u001b[39m: \u001b[32mIndexedSeq\u001b[39m[\u001b[32mArray\u001b[39m[\u001b[32mDouble\u001b[39m]] = \u001b[33mVector\u001b[39m(\n",
       "  \u001b[33mArray\u001b[39m(\u001b[32m-6.463732966847141E-8\u001b[39m, \u001b[32m-16.999960683595546\u001b[39m),\n",
       "  \u001b[33mArray\u001b[39m(\u001b[32m-2.492524155144247E-5\u001b[39m, \u001b[32m-16.997917101644497\u001b[39m),\n",
       "  \u001b[33mArray\u001b[39m(\u001b[32m-1.6104112289149345E-4\u001b[39m, \u001b[32m-16.992774931671576\u001b[39m),\n",
       "  \u001b[33mArray\u001b[39m(\u001b[32m-5.042681728047771E-4\u001b[39m, \u001b[32m-16.984537273625897\u001b[39m),\n",
       "  \u001b[33mArray\u001b[39m(\u001b[32m-0.001150255171237311\u001b[39m, \u001b[32m-16.973209090042378\u001b[39m),\n",
       "  \u001b[33mArray\u001b[39m(\u001b[32m-0.002194348113494316\u001b[39m, \u001b[32m-16.958797198160877\u001b[39m),\n",
       "  \u001b[33mArray\u001b[39m(\u001b[32m-0.0037314948126257923\u001b[39m, \u001b[32m-16.941310259102387\u001b[39m),\n",
       "  \u001b[33mArray\u001b[39m(\u001b[32m-0.005856149864141234\u001b[39m, \u001b[32m-16.920758764121906\u001b[39m),\n",
       "  \u001b[33mArray\u001b[39m(\u001b[32m-0.008662180059536085\u001b[39m, \u001b[32m-16.897155017962813\u001b[39m),\n",
       "  \u001b[33mArray\u001b[39m(\u001b[32m-0.012242770334712043\u001b[39m, \u001b[32m-16.87051311934288\u001b[39m),\n",
       "  \u001b[33mArray\u001b[39m(\u001b[32m-0.01669033033888591\u001b[39m, \u001b[32m-16.84084893860716\u001b[39m),\n",
       "  \u001b[33mArray\u001b[39m(\u001b[32m-0.02209640170902985\u001b[39m, \u001b[32m-16.808180092588184\u001b[39m),\n",
       "  \u001b[33mArray\u001b[39m(\u001b[32m-0.028551566134240997\u001b[39m, \u001b[32m-16.772525916718998\u001b[39m),\n",
       "  \u001b[33mArray\u001b[39m(\u001b[32m-0.03614535429373789\u001b[39m, \u001b[32m-16.73390743444939\u001b[39m),\n",
       "  \u001b[33mArray\u001b[39m(\u001b[32m-0.044966155751380375\u001b[39m, \u001b[32m-16.692347324020762\u001b[39m),\n",
       "  \u001b[33mArray\u001b[39m(\u001b[32m-0.05510112988876378\u001b[39m, \u001b[32m-16.647869882659734\u001b[39m),\n",
       "  \u001b[33mArray\u001b[39m(\u001b[32m-0.06663611795798619\u001b[39m, \u001b[32m-16.60050098825533\u001b[39m),\n",
       "  \u001b[33mArray\u001b[39m(\u001b[32m-0.07965555633418872\u001b[39m, \u001b[32m-16.550268058589143\u001b[39m),\n",
       "  \u001b[33mArray\u001b[39m(\u001b[32m-0.09424239104689118\u001b[39m, \u001b[32m-16.497200008192383\u001b[39m),\n",
       "  \u001b[33mArray\u001b[39m(\u001b[32m-0.11047799366797405\u001b[39m, \u001b[32m-16.441327202907953\u001b[39m),\n",
       "  \u001b[33mArray\u001b[39m(\u001b[32m-0.12844207863296622\u001b[39m, \u001b[32m-16.38268141224\u001b[39m),\n",
       "  \u001b[33mArray\u001b[39m(\u001b[32m-0.1482126220709681\u001b[39m, \u001b[32m-16.32129575957734\u001b[39m),\n",
       "  \u001b[33mArray\u001b[39m(\u001b[32m-0.16986578221722445\u001b[39m, \u001b[32m-16.25720467038103\u001b[39m),\n",
       "  \u001b[33mArray\u001b[39m(\u001b[32m-0.19347582148088532\u001b[39m, \u001b[32m-16.19044381843033\u001b[39m),\n",
       "  \u001b[33mArray\u001b[39m(\u001b[32m-0.21911503023905704\u001b[39m, \u001b[32m-16.12105007022445\u001b[39m),\n",
       "  \u001b[33mArray\u001b[39m(\u001b[32m-0.24685365242662968\u001b[39m, \u001b[32m-16.04906142764135\u001b[39m),\n",
       "  \u001b[33mArray\u001b[39m(\u001b[32m-0.2767598129898154\u001b[39m, \u001b[32m-15.974516968957737\u001b[39m),\n",
       "  \u001b[33mArray\u001b[39m(\u001b[32m-0.3088994472695784\u001b[39m, \u001b[32m-15.897456788337571\u001b[39m),\n",
       "  \u001b[33mArray\u001b[39m(\u001b[32m-0.34333623237948085\u001b[39m, \u001b[32m-15.817921933899296\u001b[39m),\n",
       "  \u001b[33mArray\u001b[39m(\u001b[32m-0.3801315206405825\u001b[39m, \u001b[32m-15.735954344474662\u001b[39m),\n",
       "  \u001b[33mArray\u001b[39m(\u001b[32m-0.41934427513427186\u001b[39m, \u001b[32m-15.651596785174224\u001b[39m),\n",
       "  \u001b[33mArray\u001b[39m(\u001b[32m-0.46103100743190056\u001b[39m, \u001b[32m-15.564892781877404\u001b[39m),\n",
       "  \u001b[33mArray\u001b[39m(\u001b[32m-0.5052457175582339\u001b[39m, \u001b[32m-15.475886554766372\u001b[39m),\n",
       "  \u001b[33mArray\u001b[39m(\u001b[32m-0.5520398362436082\u001b[39m, \u001b[32m-15.384622951025493\u001b[39m),\n",
       "  \u001b[33mArray\u001b[39m(\u001b[32m-0.6014621695177373\u001b[39m, \u001b[32m-15.291147376829185\u001b[39m),\n",
       "  \u001b[33mArray\u001b[39m(\u001b[32m-0.653558845695882\u001b[39m, \u001b[32m-15.195505728742893\u001b[39m),\n",
       "  \u001b[33mArray\u001b[39m(\u001b[32m-0.7083732648060654\u001b[39m, \u001b[32m-15.097744324662706\u001b[39m),\n",
       "  \u001b[33mArray\u001b[39m(\u001b[32m-0.7659460505036814\u001b[39m, \u001b[32m-14.997909834420364\u001b[39m),\n",
       "..."
      ]
     },
     "execution_count": 5,
     "metadata": {},
     "output_type": "execute_result"
    }
   ],
   "source": [
    "import java.lang.Math\n",
    "val heart = -314 to 314 map { i =>\n",
    "    val t = i / 100.0\n",
    "    val x = 16 * Math.pow(Math.sin(t), 3)\n",
    "    val y = 13 * Math.cos(t) - 5 * Math.cos(2*t) - 2 * Math.cos(3*t) - Math.cos(4*t)\n",
    "    Array(x, y)\n",
    "}"
   ]
  },
  {
   "cell_type": "code",
   "execution_count": 7,
   "metadata": {},
   "outputs": [
    {
     "name": "stderr",
     "output_type": "stream",
     "text": [
      "SLF4J: Failed to load class \"org.slf4j.impl.StaticLoggerBinder\".\n",
      "SLF4J: Defaulting to no-operation (NOP) logger implementation\n",
      "SLF4J: See http://www.slf4j.org/codes.html#StaticLoggerBinder for further details.\n"
     ]
    },
    {
     "data": {
      "text/html": [
       "<img src=\"data:image/png;base64,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\">"
      ]
     },
     "metadata": {},
     "output_type": "display_data"
    }
   ],
   "source": [
    "show(plot(heart.toArray))"
   ]
  },
  {
   "cell_type": "code",
   "execution_count": 3,
   "metadata": {},
   "outputs": [
    {
     "data": {
      "text/plain": [
       "\u001b[36mmodel\u001b[39m: \u001b[32mRandomForest\u001b[39m = smile.classification.RandomForest@4f7f6eef"
      ]
     },
     "execution_count": 3,
     "metadata": {},
     "output_type": "execute_result"
    }
   ],
   "source": [
    "val model = randomForest(\"class\"~, iris)"
   ]
  },
  {
   "cell_type": "code",
   "execution_count": 4,
   "metadata": {},
   "outputs": [
    {
     "data": {
      "text/plain": [
       "\u001b[36mres3\u001b[39m: \u001b[32mArray\u001b[39m[\u001b[32mInt\u001b[39m] = \u001b[33mArray\u001b[39m(\n",
       "  \u001b[32m0\u001b[39m,\n",
       "  \u001b[32m0\u001b[39m,\n",
       "  \u001b[32m0\u001b[39m,\n",
       "  \u001b[32m0\u001b[39m,\n",
       "  \u001b[32m0\u001b[39m,\n",
       "  \u001b[32m0\u001b[39m,\n",
       "  \u001b[32m0\u001b[39m,\n",
       "  \u001b[32m0\u001b[39m,\n",
       "  \u001b[32m0\u001b[39m,\n",
       "  \u001b[32m0\u001b[39m,\n",
       "  \u001b[32m0\u001b[39m,\n",
       "  \u001b[32m0\u001b[39m,\n",
       "  \u001b[32m0\u001b[39m,\n",
       "  \u001b[32m0\u001b[39m,\n",
       "  \u001b[32m0\u001b[39m,\n",
       "  \u001b[32m0\u001b[39m,\n",
       "  \u001b[32m0\u001b[39m,\n",
       "  \u001b[32m0\u001b[39m,\n",
       "  \u001b[32m0\u001b[39m,\n",
       "  \u001b[32m0\u001b[39m,\n",
       "  \u001b[32m0\u001b[39m,\n",
       "  \u001b[32m0\u001b[39m,\n",
       "  \u001b[32m0\u001b[39m,\n",
       "  \u001b[32m0\u001b[39m,\n",
       "  \u001b[32m0\u001b[39m,\n",
       "  \u001b[32m0\u001b[39m,\n",
       "  \u001b[32m0\u001b[39m,\n",
       "  \u001b[32m0\u001b[39m,\n",
       "  \u001b[32m0\u001b[39m,\n",
       "  \u001b[32m0\u001b[39m,\n",
       "  \u001b[32m0\u001b[39m,\n",
       "  \u001b[32m0\u001b[39m,\n",
       "  \u001b[32m0\u001b[39m,\n",
       "  \u001b[32m0\u001b[39m,\n",
       "  \u001b[32m0\u001b[39m,\n",
       "  \u001b[32m0\u001b[39m,\n",
       "  \u001b[32m0\u001b[39m,\n",
       "  \u001b[32m0\u001b[39m,\n",
       "..."
      ]
     },
     "execution_count": 4,
     "metadata": {},
     "output_type": "execute_result"
    }
   ],
   "source": [
    "model.predict(iris)"
   ]
  },
  {
   "cell_type": "code",
   "execution_count": 6,
   "metadata": {},
   "outputs": [
    {
     "data": {
      "text/plain": [
       "\u001b[36mmat\u001b[39m: \u001b[32mDenseMatrix\u001b[39m =   0.0000    0.0000    0.0000    0.0000    0.0000    0.0000    0.0000  ...\n",
       "  0.0000    0.0000    0.0000    0.0000    0.0000    0.0000    0.0000  ...\n",
       "  0.0000    0.0000    0.0000    0.0000    0.0000    0.0000    0.0000  ...\n",
       "  0.0000    0.0000    0.0000    0.0000    0.0000    0.0000    0.0000  ...\n",
       "  0.0000    0.0000    0.0000    0.0000    0.0000    0.0000    0.0000  ...\n",
       "  0.0000    0.0000    0.0000    0.0000    0.0000    0.0000    0.0000  ...\n",
       "  0.0000    0.0000    0.0000    0.0000    0.0000    0.0000    0.0000  ...\n",
       "  ...\n"
      ]
     },
     "execution_count": 6,
     "metadata": {},
     "output_type": "execute_result"
    }
   ],
   "source": [
    "val mat = matrix(100, 100)"
   ]
  },
  {
   "cell_type": "code",
   "execution_count": 3,
   "metadata": {},
   "outputs": [
    {
     "data": {
      "text/plain": [
       "\u001b[36mres2\u001b[39m: \u001b[32mString\u001b[39m = \u001b[32mnull\u001b[39m"
      ]
     },
     "execution_count": 3,
     "metadata": {},
     "output_type": "execute_result"
    }
   ],
   "source": []
  },
  {
   "cell_type": "code",
   "execution_count": null,
   "metadata": {},
   "outputs": [],
   "source": []
  }
 ],
 "metadata": {
  "kernelspec": {
   "display_name": "Scala (2.13)",
   "language": "scala",
   "name": "scala213"
  },
  "language_info": {
   "codemirror_mode": "text/x-scala",
   "file_extension": ".scala",
   "mimetype": "text/x-scala",
   "name": "scala",
   "nbconvert_exporter": "script",
   "version": "2.13.1"
  },
  "toc": {
   "base_numbering": 1,
   "nav_menu": {},
   "number_sections": false,
   "sideBar": false,
   "skip_h1_title": false,
   "title_cell": "Table of Contents",
   "title_sidebar": "Contents",
   "toc_cell": false,
   "toc_position": {},
   "toc_section_display": false,
   "toc_window_display": false
  }
 },
 "nbformat": 4,
 "nbformat_minor": 4
}
