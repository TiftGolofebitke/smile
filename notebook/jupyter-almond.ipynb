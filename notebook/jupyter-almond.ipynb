{
 "cells": [
  {
   "cell_type": "code",
   "execution_count": 1,
   "metadata": {},
   "outputs": [
    {
     "data": {
      "text/plain": [
       "\u001b[32mimport \u001b[39m\u001b[36m$ivy.$                                       \n",
       "\n",
       "\u001b[39m\n",
       "\u001b[32mimport \u001b[39m\u001b[36mscala.language.postfixOps\n",
       "\u001b[39m\n",
       "\u001b[32mimport \u001b[39m\u001b[36morg.apache.commons.csv.CSVFormat\n",
       "\u001b[39m\n",
       "\u001b[32mimport \u001b[39m\u001b[36msmile._\n",
       "\u001b[39m\n",
       "\u001b[32mimport \u001b[39m\u001b[36msmile.util._\n",
       "\u001b[39m\n",
       "\u001b[32mimport \u001b[39m\u001b[36msmile.math._\n",
       "\u001b[39m\n",
       "\u001b[32mimport \u001b[39m\u001b[36msmile.math.MathEx.{log2, logistic, factorial, lfactorial, choose, lchoose, random, randomInt, permutate, c, cbind, rbind, sum, mean, median, q1, q3, `var` => variance, sd, mad, min, max, whichMin, whichMax, unique, dot, distance, pdist, KullbackLeiblerDivergence => kld, JensenShannonDivergence => jsd, cov, cor, spearman, kendall, norm, norm1, norm2, normInf, standardize, normalize, scale, unitize, unitize1, unitize2, root}\n",
       "\u001b[39m\n",
       "\u001b[32mimport \u001b[39m\u001b[36msmile.math.distance._\n",
       "\u001b[39m\n",
       "\u001b[32mimport \u001b[39m\u001b[36msmile.math.kernel._\n",
       "\u001b[39m\n",
       "\u001b[32mimport \u001b[39m\u001b[36msmile.math.matrix._\n",
       "\u001b[39m\n",
       "\u001b[32mimport \u001b[39m\u001b[36msmile.math.matrix.Matrix._\n",
       "\u001b[39m\n",
       "\u001b[32mimport \u001b[39m\u001b[36msmile.math.rbf._\n",
       "\u001b[39m\n",
       "\u001b[32mimport \u001b[39m\u001b[36msmile.stat.distribution._\n",
       "\u001b[39m\n",
       "\u001b[32mimport \u001b[39m\u001b[36msmile.data._\n",
       "\u001b[39m\n",
       "\u001b[32mimport \u001b[39m\u001b[36msmile.data.formula._\n",
       "\u001b[39m\n",
       "\u001b[32mimport \u001b[39m\u001b[36msmile.data.measure._\n",
       "\u001b[39m\n",
       "\u001b[32mimport \u001b[39m\u001b[36msmile.data.`type`._\n",
       "\u001b[39m\n",
       "\u001b[32mimport \u001b[39m\u001b[36msmile.json._\n",
       "\u001b[39m\n",
       "\u001b[32mimport \u001b[39m\u001b[36msmile.interpolation._\n",
       "\u001b[39m\n",
       "\u001b[32mimport \u001b[39m\u001b[36msmile.validation._\n",
       "\u001b[39m\n",
       "\u001b[32mimport \u001b[39m\u001b[36msmile.association._\n",
       "\u001b[39m\n",
       "\u001b[32mimport \u001b[39m\u001b[36msmile.base.cart.SplitRule\n",
       "\u001b[39m\n",
       "\u001b[32mimport \u001b[39m\u001b[36msmile.base.mlp._\n",
       "\u001b[39m\n",
       "\u001b[32mimport \u001b[39m\u001b[36msmile.base.rbf.RBF\n",
       "\u001b[39m\n",
       "\u001b[32mimport \u001b[39m\u001b[36msmile.classification._\n",
       "\u001b[39m\n",
       "\u001b[32mimport \u001b[39m\u001b[36msmile.regression.{ols, ridge, lasso, svr, gpr}\n",
       "\u001b[39m\n",
       "\u001b[32mimport \u001b[39m\u001b[36msmile.feature._\n",
       "\u001b[39m\n",
       "\u001b[32mimport \u001b[39m\u001b[36msmile.clustering._\n",
       "\u001b[39m\n",
       "\u001b[32mimport \u001b[39m\u001b[36msmile.vq._\n",
       "\u001b[39m\n",
       "\u001b[32mimport \u001b[39m\u001b[36msmile.manifold._\n",
       "\u001b[39m\n",
       "\u001b[32mimport \u001b[39m\u001b[36msmile.mds._\n",
       "\u001b[39m\n",
       "\u001b[32mimport \u001b[39m\u001b[36msmile.sequence._\n",
       "\u001b[39m\n",
       "\u001b[32mimport \u001b[39m\u001b[36msmile.projection._\n",
       "\u001b[39m\n",
       "\u001b[32mimport \u001b[39m\u001b[36msmile.nlp._\n",
       "\u001b[39m\n",
       "\u001b[32mimport \u001b[39m\u001b[36msmile.wavelet._\u001b[39m"
      ]
     },
     "execution_count": 1,
     "metadata": {},
     "output_type": "execute_result"
    }
   ],
   "source": [
    "import $ivy.`com.github.haifengl::smile-scala:2.1.0`\n",
    "\n",
    "import scala.language.postfixOps\n",
    "import org.apache.commons.csv.CSVFormat\n",
    "import smile._\n",
    "import smile.util._\n",
    "import smile.math._\n",
    "import smile.math.MathEx.{log2, logistic, factorial, lfactorial, choose, lchoose, random, randomInt, permutate, c, cbind, rbind, sum, mean, median, q1, q3, `var` => variance, sd, mad, min, max, whichMin, whichMax, unique, dot, distance, pdist, KullbackLeiblerDivergence => kld, JensenShannonDivergence => jsd, cov, cor, spearman, kendall, norm, norm1, norm2, normInf, standardize, normalize, scale, unitize, unitize1, unitize2, root}\n",
    "import smile.math.distance._\n",
    "import smile.math.kernel._\n",
    "import smile.math.matrix._\n",
    "import smile.math.matrix.Matrix._\n",
    "import smile.math.rbf._\n",
    "import smile.stat.distribution._\n",
    "import smile.data._\n",
    "import smile.data.formula._\n",
    "import smile.data.measure._\n",
    "import smile.data.`type`._\n",
    "import smile.json._\n",
    "import smile.interpolation._\n",
    "import smile.validation._\n",
    "import smile.association._\n",
    "import smile.base.cart.SplitRule\n",
    "import smile.base.mlp._\n",
    "import smile.base.rbf.RBF\n",
    "import smile.classification._\n",
    "import smile.regression.{ols, ridge, lasso, svr, gpr}\n",
    "import smile.feature._\n",
    "import smile.clustering._\n",
    "import smile.vq._\n",
    "import smile.manifold._\n",
    "import smile.mds._\n",
    "import smile.sequence._\n",
    "import smile.projection._\n",
    "import smile.nlp._\n",
    "import smile.wavelet._"
   ]
  },
  {
   "cell_type": "code",
   "execution_count": 2,
   "metadata": {},
   "outputs": [
    {
     "data": {
      "text/plain": [
       "\u001b[32mimport \u001b[39m\u001b[36msmile.plot.vega._\n",
       "\u001b[39m\n",
       "\u001b[32mimport \u001b[39m\u001b[36msmile.plot.show\n",
       "\n",
       "\u001b[39m\n",
       "defined \u001b[32mfunction\u001b[39m \u001b[36malmond\u001b[39m"
      ]
     },
     "execution_count": 2,
     "metadata": {},
     "output_type": "execute_result"
    }
   ],
   "source": [
    "import smile.plot.vega._\n",
    "import smile.plot.show\n",
    "\n",
    "implicit def almond(spec: JsObject): Unit = {\n",
    "  publish.html(iframe(spec))\n",
    "}"
   ]
  },
  {
   "cell_type": "code",
   "execution_count": null,
   "metadata": {},
   "outputs": [],
   "source": [
    "import smile.plot.swing._\n",
    "import smile.plot.show\n",
    "\n",
    "implicit def almond(canvas: javax.swing.JComponent): Unit = {\n",
    "  publish.html(smile.plot.swing.img(canvas))\n",
    "}"
   ]
  },
  {
   "cell_type": "code",
   "execution_count": 2,
   "metadata": {},
   "outputs": [
    {
     "name": "stderr",
     "output_type": "stream",
     "text": [
      "SLF4J: Failed to load class \"org.slf4j.impl.StaticLoggerBinder\".\n",
      "SLF4J: Defaulting to no-operation (NOP) logger implementation\n",
      "SLF4J: See http://www.slf4j.org/codes.html#StaticLoggerBinder for further details.\n"
     ]
    },
    {
     "data": {
      "text/plain": [
       "\u001b[36miris\u001b[39m: \u001b[32mDataFrame\u001b[39m = +-----------+----------+-----------+----------+-----------+\n",
       "|sepallength|sepalwidth|petallength|petalwidth|      class|\n",
       "+-----------+----------+-----------+----------+-----------+\n",
       "|        5.1|       3.5|        1.4|       0.2|Iris-setosa|\n",
       "|        4.9|         3|        1.4|       0.2|Iris-setosa|\n",
       "|        4.7|       3.2|        1.3|       0.2|Iris-setosa|\n",
       "|        4.6|       3.1|        1.5|       0.2|Iris-setosa|\n",
       "|          5|       3.6|        1.4|       0.2|Iris-setosa|\n",
       "|        5.4|       3.9|        1.7|       0.4|Iris-setosa|\n",
       "|        4.6|       3.4|        1.4|       0.3|Iris-setosa|\n",
       "|          5|       3.4|        1.5|       0.2|Iris-setosa|\n",
       "|        4.4|       2.9|        1.4|       0.2|Iris-setosa|\n",
       "|        4.9|       3.1|        1.5|       0.1|Iris-setosa|\n",
       "+-----------+----------+-----------+----------+-----------+\n",
       "140 more rows...\n"
      ]
     },
     "execution_count": 2,
     "metadata": {},
     "output_type": "execute_result"
    }
   ],
   "source": [
    "val iris = read.arff(\"../shell/src/universal/data/weka/iris.arff\")"
   ]
  },
  {
   "cell_type": "code",
   "execution_count": 4,
   "metadata": {},
   "outputs": [
    {
     "data": {
      "text/html": [
       "\n",
       "  <iframe id=\"f496f434-6e5b-42a1-b67c-9e89f831d678\" sandbox=\"allow-scripts allow-same-origin\" style=\"border: none; width: 100%\" srcdoc=\"\n",
       "&lt;!DOCTYPE html&gt;\n",
       "&lt;html&gt;\n",
       "&lt;head&gt;\n",
       "  &lt;script src=&quot;https://cdn.jsdelivr.net/npm/vega@5.8.1&quot;&gt;&lt;/script&gt;\n",
       "  &lt;script src=&quot;https://cdn.jsdelivr.net/npm/vega-lite@4.0.0-beta.12&quot;&gt;&lt;/script&gt;\n",
       "  &lt;script src=&quot;https://cdn.jsdelivr.net/npm/vega-embed@6.1.0&quot;&gt;&lt;/script&gt;\n",
       "&lt;/head&gt;\n",
       "&lt;body&gt;\n",
       "\n",
       "&lt;div id=&quot;vega-lite&quot;&gt;&lt;/div&gt;\n",
       "\n",
       "&lt;script type=&quot;text/javascript&quot;&gt;\n",
       "  var spec = {&quot;$schema&quot;:&quot;https://vega.github.io/schema/vega-lite/v4.json&quot;,&quot;repeat&quot;:{&quot;column&quot;:[&quot;sepallength&quot;,&quot;sepalwidth&quot;,&quot;petallength&quot;,&quot;petalwidth&quot;],&quot;row&quot;:[&quot;sepallength&quot;,&quot;sepalwidth&quot;,&quot;petallength&quot;,&quot;petalwidth&quot;]},&quot;spec&quot;:{&quot;selection&quot;:{&quot;brush&quot;:{&quot;resolve&quot;:&quot;union&quot;,&quot;zoom&quot;:&quot;wheel![event.shiftKey]&quot;,&quot;type&quot;:&quot;interval&quot;,&quot;translate&quot;:&quot;[mousedown[event.shiftKey], window:mouseup] &gt; window:mousemove!&quot;,&quot;on&quot;:&quot;[mousedown[event.shiftKey], window:mouseup] &gt; window:mousemove!&quot;},&quot;grid&quot;:{&quot;bind&quot;:&quot;scales&quot;,&quot;resolve&quot;:&quot;global&quot;,&quot;zoom&quot;:&quot;wheel![!event.shiftKey]&quot;,&quot;type&quot;:&quot;interval&quot;,&quot;translate&quot;:&quot;[mousedown[!event.shiftKey], window:mouseup] &gt; window:mousemove!&quot;}},&quot;data&quot;:{&quot;values&quot;:[{&quot;petalwidth&quot;:0.20000000298023224,&quot;sepallength&quot;:5.099999904632568,&quot;sepalwidth&quot;:3.5,&quot;petallength&quot;:1.399999976158142,&quot;class&quot;:&quot;Iris-setosa&quot;},{&quot;petalwidth&quot;:0.20000000298023224,&quot;sepallength&quot;:4.900000095367432,&quot;sepalwidth&quot;:3.0,&quot;petallength&quot;:1.399999976158142,&quot;class&quot;:&quot;Iris-setosa&quot;},{&quot;petalwidth&quot;:0.20000000298023224,&quot;sepallength&quot;:4.699999809265137,&quot;sepalwidth&quot;:3.200000047683716,&quot;petallength&quot;:1.2999999523162842,&quot;class&quot;:&quot;Iris-setosa&quot;},{&quot;petalwidth&quot;:0.20000000298023224,&quot;sepallength&quot;:4.599999904632568,&quot;sepalwidth&quot;:3.0999999046325684,&quot;petallength&quot;:1.5,&quot;class&quot;:&quot;Iris-setosa&quot;},{&quot;petalwidth&quot;:0.20000000298023224,&quot;sepallength&quot;:5.0,&quot;sepalwidth&quot;:3.5999999046325684,&quot;petallength&quot;:1.399999976158142,&quot;class&quot;:&quot;Iris-setosa&quot;},{&quot;petalwidth&quot;:0.4000000059604645,&quot;sepallength&quot;:5.400000095367432,&quot;sepalwidth&quot;:3.9000000953674316,&quot;petallength&quot;:1.7000000476837158,&quot;class&quot;:&quot;Iris-setosa&quot;},{&quot;petalwidth&quot;:0.30000001192092896,&quot;sepallength&quot;:4.599999904632568,&quot;sepalwidth&quot;:3.4000000953674316,&quot;petallength&quot;:1.399999976158142,&quot;class&quot;:&quot;Iris-setosa&quot;},{&quot;petalwidth&quot;:0.20000000298023224,&quot;sepallength&quot;:5.0,&quot;sepalwidth&quot;:3.4000000953674316,&quot;petallength&quot;:1.5,&quot;class&quot;:&quot;Iris-setosa&quot;},{&quot;petalwidth&quot;:0.20000000298023224,&quot;sepallength&quot;:4.400000095367432,&quot;sepalwidth&quot;:2.9000000953674316,&quot;petallength&quot;:1.399999976158142,&quot;class&quot;:&quot;Iris-setosa&quot;},{&quot;petalwidth&quot;:0.10000000149011612,&quot;sepallength&quot;:4.900000095367432,&quot;sepalwidth&quot;:3.0999999046325684,&quot;petallength&quot;:1.5,&quot;class&quot;:&quot;Iris-setosa&quot;},{&quot;petalwidth&quot;:0.20000000298023224,&quot;sepallength&quot;:5.400000095367432,&quot;sepalwidth&quot;:3.700000047683716,&quot;petallength&quot;:1.5,&quot;class&quot;:&quot;Iris-setosa&quot;},{&quot;petalwidth&quot;:0.20000000298023224,&quot;sepallength&quot;:4.800000190734863,&quot;sepalwidth&quot;:3.4000000953674316,&quot;petallength&quot;:1.600000023841858,&quot;class&quot;:&quot;Iris-setosa&quot;},{&quot;petalwidth&quot;:0.10000000149011612,&quot;sepallength&quot;:4.800000190734863,&quot;sepalwidth&quot;:3.0,&quot;petallength&quot;:1.399999976158142,&quot;class&quot;:&quot;Iris-setosa&quot;},{&quot;petalwidth&quot;:0.10000000149011612,&quot;sepallength&quot;:4.300000190734863,&quot;sepalwidth&quot;:3.0,&quot;petallength&quot;:1.100000023841858,&quot;class&quot;:&quot;Iris-setosa&quot;},{&quot;petalwidth&quot;:0.20000000298023224,&quot;sepallength&quot;:5.800000190734863,&quot;sepalwidth&quot;:4.0,&quot;petallength&quot;:1.2000000476837158,&quot;class&quot;:&quot;Iris-setosa&quot;},{&quot;petalwidth&quot;:0.4000000059604645,&quot;sepallength&quot;:5.699999809265137,&quot;sepalwidth&quot;:4.400000095367432,&quot;petallength&quot;:1.5,&quot;class&quot;:&quot;Iris-setosa&quot;},{&quot;petalwidth&quot;:0.4000000059604645,&quot;sepallength&quot;:5.400000095367432,&quot;sepalwidth&quot;:3.9000000953674316,&quot;petallength&quot;:1.2999999523162842,&quot;class&quot;:&quot;Iris-setosa&quot;},{&quot;petalwidth&quot;:0.30000001192092896,&quot;sepallength&quot;:5.099999904632568,&quot;sepalwidth&quot;:3.5,&quot;petallength&quot;:1.399999976158142,&quot;class&quot;:&quot;Iris-setosa&quot;},{&quot;petalwidth&quot;:0.30000001192092896,&quot;sepallength&quot;:5.699999809265137,&quot;sepalwidth&quot;:3.799999952316284,&quot;petallength&quot;:1.7000000476837158,&quot;class&quot;:&quot;Iris-setosa&quot;},{&quot;petalwidth&quot;:0.30000001192092896,&quot;sepallength&quot;:5.099999904632568,&quot;sepalwidth&quot;:3.799999952316284,&quot;petallength&quot;:1.5,&quot;class&quot;:&quot;Iris-setosa&quot;},{&quot;petalwidth&quot;:0.20000000298023224,&quot;sepallength&quot;:5.400000095367432,&quot;sepalwidth&quot;:3.4000000953674316,&quot;petallength&quot;:1.7000000476837158,&quot;class&quot;:&quot;Iris-setosa&quot;},{&quot;petalwidth&quot;:0.4000000059604645,&quot;sepallength&quot;:5.099999904632568,&quot;sepalwidth&quot;:3.700000047683716,&quot;petallength&quot;:1.5,&quot;class&quot;:&quot;Iris-setosa&quot;},{&quot;petalwidth&quot;:0.20000000298023224,&quot;sepallength&quot;:4.599999904632568,&quot;sepalwidth&quot;:3.5999999046325684,&quot;petallength&quot;:1.0,&quot;class&quot;:&quot;Iris-setosa&quot;},{&quot;petalwidth&quot;:0.5,&quot;sepallength&quot;:5.099999904632568,&quot;sepalwidth&quot;:3.299999952316284,&quot;petallength&quot;:1.7000000476837158,&quot;class&quot;:&quot;Iris-setosa&quot;},{&quot;petalwidth&quot;:0.20000000298023224,&quot;sepallength&quot;:4.800000190734863,&quot;sepalwidth&quot;:3.4000000953674316,&quot;petallength&quot;:1.899999976158142,&quot;class&quot;:&quot;Iris-setosa&quot;},{&quot;petalwidth&quot;:0.20000000298023224,&quot;sepallength&quot;:5.0,&quot;sepalwidth&quot;:3.0,&quot;petallength&quot;:1.600000023841858,&quot;class&quot;:&quot;Iris-setosa&quot;},{&quot;petalwidth&quot;:0.4000000059604645,&quot;sepallength&quot;:5.0,&quot;sepalwidth&quot;:3.4000000953674316,&quot;petallength&quot;:1.600000023841858,&quot;class&quot;:&quot;Iris-setosa&quot;},{&quot;petalwidth&quot;:0.20000000298023224,&quot;sepallength&quot;:5.199999809265137,&quot;sepalwidth&quot;:3.5,&quot;petallength&quot;:1.5,&quot;class&quot;:&quot;Iris-setosa&quot;},{&quot;petalwidth&quot;:0.20000000298023224,&quot;sepallength&quot;:5.199999809265137,&quot;sepalwidth&quot;:3.4000000953674316,&quot;petallength&quot;:1.399999976158142,&quot;class&quot;:&quot;Iris-setosa&quot;},{&quot;petalwidth&quot;:0.20000000298023224,&quot;sepallength&quot;:4.699999809265137,&quot;sepalwidth&quot;:3.200000047683716,&quot;petallength&quot;:1.600000023841858,&quot;class&quot;:&quot;Iris-setosa&quot;},{&quot;petalwidth&quot;:0.20000000298023224,&quot;sepallength&quot;:4.800000190734863,&quot;sepalwidth&quot;:3.0999999046325684,&quot;petallength&quot;:1.600000023841858,&quot;class&quot;:&quot;Iris-setosa&quot;},{&quot;petalwidth&quot;:0.4000000059604645,&quot;sepallength&quot;:5.400000095367432,&quot;sepalwidth&quot;:3.4000000953674316,&quot;petallength&quot;:1.5,&quot;class&quot;:&quot;Iris-setosa&quot;},{&quot;petalwidth&quot;:0.10000000149011612,&quot;sepallength&quot;:5.199999809265137,&quot;sepalwidth&quot;:4.099999904632568,&quot;petallength&quot;:1.5,&quot;class&quot;:&quot;Iris-setosa&quot;},{&quot;petalwidth&quot;:0.20000000298023224,&quot;sepallength&quot;:5.5,&quot;sepalwidth&quot;:4.199999809265137,&quot;petallength&quot;:1.399999976158142,&quot;class&quot;:&quot;Iris-setosa&quot;},{&quot;petalwidth&quot;:0.10000000149011612,&quot;sepallength&quot;:4.900000095367432,&quot;sepalwidth&quot;:3.0999999046325684,&quot;petallength&quot;:1.5,&quot;class&quot;:&quot;Iris-setosa&quot;},{&quot;petalwidth&quot;:0.20000000298023224,&quot;sepallength&quot;:5.0,&quot;sepalwidth&quot;:3.200000047683716,&quot;petallength&quot;:1.2000000476837158,&quot;class&quot;:&quot;Iris-setosa&quot;},{&quot;petalwidth&quot;:0.20000000298023224,&quot;sepallength&quot;:5.5,&quot;sepalwidth&quot;:3.5,&quot;petallength&quot;:1.2999999523162842,&quot;class&quot;:&quot;Iris-setosa&quot;},{&quot;petalwidth&quot;:0.10000000149011612,&quot;sepallength&quot;:4.900000095367432,&quot;sepalwidth&quot;:3.0999999046325684,&quot;petallength&quot;:1.5,&quot;class&quot;:&quot;Iris-setosa&quot;},{&quot;petalwidth&quot;:0.20000000298023224,&quot;sepallength&quot;:4.400000095367432,&quot;sepalwidth&quot;:3.0,&quot;petallength&quot;:1.2999999523162842,&quot;class&quot;:&quot;Iris-setosa&quot;},{&quot;petalwidth&quot;:0.20000000298023224,&quot;sepallength&quot;:5.099999904632568,&quot;sepalwidth&quot;:3.4000000953674316,&quot;petallength&quot;:1.5,&quot;class&quot;:&quot;Iris-setosa&quot;},{&quot;petalwidth&quot;:0.30000001192092896,&quot;sepallength&quot;:5.0,&quot;sepalwidth&quot;:3.5,&quot;petallength&quot;:1.2999999523162842,&quot;class&quot;:&quot;Iris-setosa&quot;},{&quot;petalwidth&quot;:0.30000001192092896,&quot;sepallength&quot;:4.5,&quot;sepalwidth&quot;:2.299999952316284,&quot;petallength&quot;:1.2999999523162842,&quot;class&quot;:&quot;Iris-setosa&quot;},{&quot;petalwidth&quot;:0.20000000298023224,&quot;sepallength&quot;:4.400000095367432,&quot;sepalwidth&quot;:3.200000047683716,&quot;petallength&quot;:1.2999999523162842,&quot;class&quot;:&quot;Iris-setosa&quot;},{&quot;petalwidth&quot;:0.6000000238418579,&quot;sepallength&quot;:5.0,&quot;sepalwidth&quot;:3.5,&quot;petallength&quot;:1.600000023841858,&quot;class&quot;:&quot;Iris-setosa&quot;},{&quot;petalwidth&quot;:0.4000000059604645,&quot;sepallength&quot;:5.099999904632568,&quot;sepalwidth&quot;:3.799999952316284,&quot;petallength&quot;:1.899999976158142,&quot;class&quot;:&quot;Iris-setosa&quot;},{&quot;petalwidth&quot;:0.30000001192092896,&quot;sepallength&quot;:4.800000190734863,&quot;sepalwidth&quot;:3.0,&quot;petallength&quot;:1.399999976158142,&quot;class&quot;:&quot;Iris-setosa&quot;},{&quot;petalwidth&quot;:0.20000000298023224,&quot;sepallength&quot;:5.099999904632568,&quot;sepalwidth&quot;:3.799999952316284,&quot;petallength&quot;:1.600000023841858,&quot;class&quot;:&quot;Iris-setosa&quot;},{&quot;petalwidth&quot;:0.20000000298023224,&quot;sepallength&quot;:4.599999904632568,&quot;sepalwidth&quot;:3.200000047683716,&quot;petallength&quot;:1.399999976158142,&quot;class&quot;:&quot;Iris-setosa&quot;},{&quot;petalwidth&quot;:0.20000000298023224,&quot;sepallength&quot;:5.300000190734863,&quot;sepalwidth&quot;:3.700000047683716,&quot;petallength&quot;:1.5,&quot;class&quot;:&quot;Iris-setosa&quot;},{&quot;petalwidth&quot;:0.20000000298023224,&quot;sepallength&quot;:5.0,&quot;sepalwidth&quot;:3.299999952316284,&quot;petallength&quot;:1.399999976158142,&quot;class&quot;:&quot;Iris-setosa&quot;},{&quot;petalwidth&quot;:1.399999976158142,&quot;sepallength&quot;:7.0,&quot;sepalwidth&quot;:3.200000047683716,&quot;petallength&quot;:4.699999809265137,&quot;class&quot;:&quot;Iris-versicolor&quot;},{&quot;petalwidth&quot;:1.5,&quot;sepallength&quot;:6.400000095367432,&quot;sepalwidth&quot;:3.200000047683716,&quot;petallength&quot;:4.5,&quot;class&quot;:&quot;Iris-versicolor&quot;},{&quot;petalwidth&quot;:1.5,&quot;sepallength&quot;:6.900000095367432,&quot;sepalwidth&quot;:3.0999999046325684,&quot;petallength&quot;:4.900000095367432,&quot;class&quot;:&quot;Iris-versicolor&quot;},{&quot;petalwidth&quot;:1.2999999523162842,&quot;sepallength&quot;:5.5,&quot;sepalwidth&quot;:2.299999952316284,&quot;petallength&quot;:4.0,&quot;class&quot;:&quot;Iris-versicolor&quot;},{&quot;petalwidth&quot;:1.5,&quot;sepallength&quot;:6.5,&quot;sepalwidth&quot;:2.799999952316284,&quot;petallength&quot;:4.599999904632568,&quot;class&quot;:&quot;Iris-versicolor&quot;},{&quot;petalwidth&quot;:1.2999999523162842,&quot;sepallength&quot;:5.699999809265137,&quot;sepalwidth&quot;:2.799999952316284,&quot;petallength&quot;:4.5,&quot;class&quot;:&quot;Iris-versicolor&quot;},{&quot;petalwidth&quot;:1.600000023841858,&quot;sepallength&quot;:6.300000190734863,&quot;sepalwidth&quot;:3.299999952316284,&quot;petallength&quot;:4.699999809265137,&quot;class&quot;:&quot;Iris-versicolor&quot;},{&quot;petalwidth&quot;:1.0,&quot;sepallength&quot;:4.900000095367432,&quot;sepalwidth&quot;:2.4000000953674316,&quot;petallength&quot;:3.299999952316284,&quot;class&quot;:&quot;Iris-versicolor&quot;},{&quot;petalwidth&quot;:1.2999999523162842,&quot;sepallength&quot;:6.599999904632568,&quot;sepalwidth&quot;:2.9000000953674316,&quot;petallength&quot;:4.599999904632568,&quot;class&quot;:&quot;Iris-versicolor&quot;},{&quot;petalwidth&quot;:1.399999976158142,&quot;sepallength&quot;:5.199999809265137,&quot;sepalwidth&quot;:2.700000047683716,&quot;petallength&quot;:3.9000000953674316,&quot;class&quot;:&quot;Iris-versicolor&quot;},{&quot;petalwidth&quot;:1.0,&quot;sepallength&quot;:5.0,&quot;sepalwidth&quot;:2.0,&quot;petallength&quot;:3.5,&quot;class&quot;:&quot;Iris-versicolor&quot;},{&quot;petalwidth&quot;:1.5,&quot;sepallength&quot;:5.900000095367432,&quot;sepalwidth&quot;:3.0,&quot;petallength&quot;:4.199999809265137,&quot;class&quot;:&quot;Iris-versicolor&quot;},{&quot;petalwidth&quot;:1.0,&quot;sepallength&quot;:6.0,&quot;sepalwidth&quot;:2.200000047683716,&quot;petallength&quot;:4.0,&quot;class&quot;:&quot;Iris-versicolor&quot;},{&quot;petalwidth&quot;:1.399999976158142,&quot;sepallength&quot;:6.099999904632568,&quot;sepalwidth&quot;:2.9000000953674316,&quot;petallength&quot;:4.699999809265137,&quot;class&quot;:&quot;Iris-versicolor&quot;},{&quot;petalwidth&quot;:1.2999999523162842,&quot;sepallength&quot;:5.599999904632568,&quot;sepalwidth&quot;:2.9000000953674316,&quot;petallength&quot;:3.5999999046325684,&quot;class&quot;:&quot;Iris-versicolor&quot;},{&quot;petalwidth&quot;:1.399999976158142,&quot;sepallength&quot;:6.699999809265137,&quot;sepalwidth&quot;:3.0999999046325684,&quot;petallength&quot;:4.400000095367432,&quot;class&quot;:&quot;Iris-versicolor&quot;},{&quot;petalwidth&quot;:1.5,&quot;sepallength&quot;:5.599999904632568,&quot;sepalwidth&quot;:3.0,&quot;petallength&quot;:4.5,&quot;class&quot;:&quot;Iris-versicolor&quot;},{&quot;petalwidth&quot;:1.0,&quot;sepallength&quot;:5.800000190734863,&quot;sepalwidth&quot;:2.700000047683716,&quot;petallength&quot;:4.099999904632568,&quot;class&quot;:&quot;Iris-versicolor&quot;},{&quot;petalwidth&quot;:1.5,&quot;sepallength&quot;:6.199999809265137,&quot;sepalwidth&quot;:2.200000047683716,&quot;petallength&quot;:4.5,&quot;class&quot;:&quot;Iris-versicolor&quot;},{&quot;petalwidth&quot;:1.100000023841858,&quot;sepallength&quot;:5.599999904632568,&quot;sepalwidth&quot;:2.5,&quot;petallength&quot;:3.9000000953674316,&quot;class&quot;:&quot;Iris-versicolor&quot;},{&quot;petalwidth&quot;:1.7999999523162842,&quot;sepallength&quot;:5.900000095367432,&quot;sepalwidth&quot;:3.200000047683716,&quot;petallength&quot;:4.800000190734863,&quot;class&quot;:&quot;Iris-versicolor&quot;},{&quot;petalwidth&quot;:1.2999999523162842,&quot;sepallength&quot;:6.099999904632568,&quot;sepalwidth&quot;:2.799999952316284,&quot;petallength&quot;:4.0,&quot;class&quot;:&quot;Iris-versicolor&quot;},{&quot;petalwidth&quot;:1.5,&quot;sepallength&quot;:6.300000190734863,&quot;sepalwidth&quot;:2.5,&quot;petallength&quot;:4.900000095367432,&quot;class&quot;:&quot;Iris-versicolor&quot;},{&quot;petalwidth&quot;:1.2000000476837158,&quot;sepallength&quot;:6.099999904632568,&quot;sepalwidth&quot;:2.799999952316284,&quot;petallength&quot;:4.699999809265137,&quot;class&quot;:&quot;Iris-versicolor&quot;},{&quot;petalwidth&quot;:1.2999999523162842,&quot;sepallength&quot;:6.400000095367432,&quot;sepalwidth&quot;:2.9000000953674316,&quot;petallength&quot;:4.300000190734863,&quot;class&quot;:&quot;Iris-versicolor&quot;},{&quot;petalwidth&quot;:1.399999976158142,&quot;sepallength&quot;:6.599999904632568,&quot;sepalwidth&quot;:3.0,&quot;petallength&quot;:4.400000095367432,&quot;class&quot;:&quot;Iris-versicolor&quot;},{&quot;petalwidth&quot;:1.399999976158142,&quot;sepallength&quot;:6.800000190734863,&quot;sepalwidth&quot;:2.799999952316284,&quot;petallength&quot;:4.800000190734863,&quot;class&quot;:&quot;Iris-versicolor&quot;},{&quot;petalwidth&quot;:1.7000000476837158,&quot;sepallength&quot;:6.699999809265137,&quot;sepalwidth&quot;:3.0,&quot;petallength&quot;:5.0,&quot;class&quot;:&quot;Iris-versicolor&quot;},{&quot;petalwidth&quot;:1.5,&quot;sepallength&quot;:6.0,&quot;sepalwidth&quot;:2.9000000953674316,&quot;petallength&quot;:4.5,&quot;class&quot;:&quot;Iris-versicolor&quot;},{&quot;petalwidth&quot;:1.0,&quot;sepallength&quot;:5.699999809265137,&quot;sepalwidth&quot;:2.5999999046325684,&quot;petallength&quot;:3.5,&quot;class&quot;:&quot;Iris-versicolor&quot;},{&quot;petalwidth&quot;:1.100000023841858,&quot;sepallength&quot;:5.5,&quot;sepalwidth&quot;:2.4000000953674316,&quot;petallength&quot;:3.799999952316284,&quot;class&quot;:&quot;Iris-versicolor&quot;},{&quot;petalwidth&quot;:1.0,&quot;sepallength&quot;:5.5,&quot;sepalwidth&quot;:2.4000000953674316,&quot;petallength&quot;:3.700000047683716,&quot;class&quot;:&quot;Iris-versicolor&quot;},{&quot;petalwidth&quot;:1.2000000476837158,&quot;sepallength&quot;:5.800000190734863,&quot;sepalwidth&quot;:2.700000047683716,&quot;petallength&quot;:3.9000000953674316,&quot;class&quot;:&quot;Iris-versicolor&quot;},{&quot;petalwidth&quot;:1.600000023841858,&quot;sepallength&quot;:6.0,&quot;sepalwidth&quot;:2.700000047683716,&quot;petallength&quot;:5.099999904632568,&quot;class&quot;:&quot;Iris-versicolor&quot;},{&quot;petalwidth&quot;:1.5,&quot;sepallength&quot;:5.400000095367432,&quot;sepalwidth&quot;:3.0,&quot;petallength&quot;:4.5,&quot;class&quot;:&quot;Iris-versicolor&quot;},{&quot;petalwidth&quot;:1.600000023841858,&quot;sepallength&quot;:6.0,&quot;sepalwidth&quot;:3.4000000953674316,&quot;petallength&quot;:4.5,&quot;class&quot;:&quot;Iris-versicolor&quot;},{&quot;petalwidth&quot;:1.5,&quot;sepallength&quot;:6.699999809265137,&quot;sepalwidth&quot;:3.0999999046325684,&quot;petallength&quot;:4.699999809265137,&quot;class&quot;:&quot;Iris-versicolor&quot;},{&quot;petalwidth&quot;:1.2999999523162842,&quot;sepallength&quot;:6.300000190734863,&quot;sepalwidth&quot;:2.299999952316284,&quot;petallength&quot;:4.400000095367432,&quot;class&quot;:&quot;Iris-versicolor&quot;},{&quot;petalwidth&quot;:1.2999999523162842,&quot;sepallength&quot;:5.599999904632568,&quot;sepalwidth&quot;:3.0,&quot;petallength&quot;:4.099999904632568,&quot;class&quot;:&quot;Iris-versicolor&quot;},{&quot;petalwidth&quot;:1.2999999523162842,&quot;sepallength&quot;:5.5,&quot;sepalwidth&quot;:2.5,&quot;petallength&quot;:4.0,&quot;class&quot;:&quot;Iris-versicolor&quot;},{&quot;petalwidth&quot;:1.2000000476837158,&quot;sepallength&quot;:5.5,&quot;sepalwidth&quot;:2.5999999046325684,&quot;petallength&quot;:4.400000095367432,&quot;class&quot;:&quot;Iris-versicolor&quot;},{&quot;petalwidth&quot;:1.399999976158142,&quot;sepallength&quot;:6.099999904632568,&quot;sepalwidth&quot;:3.0,&quot;petallength&quot;:4.599999904632568,&quot;class&quot;:&quot;Iris-versicolor&quot;},{&quot;petalwidth&quot;:1.2000000476837158,&quot;sepallength&quot;:5.800000190734863,&quot;sepalwidth&quot;:2.5999999046325684,&quot;petallength&quot;:4.0,&quot;class&quot;:&quot;Iris-versicolor&quot;},{&quot;petalwidth&quot;:1.0,&quot;sepallength&quot;:5.0,&quot;sepalwidth&quot;:2.299999952316284,&quot;petallength&quot;:3.299999952316284,&quot;class&quot;:&quot;Iris-versicolor&quot;},{&quot;petalwidth&quot;:1.2999999523162842,&quot;sepallength&quot;:5.599999904632568,&quot;sepalwidth&quot;:2.700000047683716,&quot;petallength&quot;:4.199999809265137,&quot;class&quot;:&quot;Iris-versicolor&quot;},{&quot;petalwidth&quot;:1.2000000476837158,&quot;sepallength&quot;:5.699999809265137,&quot;sepalwidth&quot;:3.0,&quot;petallength&quot;:4.199999809265137,&quot;class&quot;:&quot;Iris-versicolor&quot;},{&quot;petalwidth&quot;:1.2999999523162842,&quot;sepallength&quot;:5.699999809265137,&quot;sepalwidth&quot;:2.9000000953674316,&quot;petallength&quot;:4.199999809265137,&quot;class&quot;:&quot;Iris-versicolor&quot;},{&quot;petalwidth&quot;:1.2999999523162842,&quot;sepallength&quot;:6.199999809265137,&quot;sepalwidth&quot;:2.9000000953674316,&quot;petallength&quot;:4.300000190734863,&quot;class&quot;:&quot;Iris-versicolor&quot;},{&quot;petalwidth&quot;:1.100000023841858,&quot;sepallength&quot;:5.099999904632568,&quot;sepalwidth&quot;:2.5,&quot;petallength&quot;:3.0,&quot;class&quot;:&quot;Iris-versicolor&quot;},{&quot;petalwidth&quot;:1.2999999523162842,&quot;sepallength&quot;:5.699999809265137,&quot;sepalwidth&quot;:2.799999952316284,&quot;petallength&quot;:4.099999904632568,&quot;class&quot;:&quot;Iris-versicolor&quot;},{&quot;petalwidth&quot;:2.5,&quot;sepallength&quot;:6.300000190734863,&quot;sepalwidth&quot;:3.299999952316284,&quot;petallength&quot;:6.0,&quot;class&quot;:&quot;Iris-virginica&quot;},{&quot;petalwidth&quot;:1.899999976158142,&quot;sepallength&quot;:5.800000190734863,&quot;sepalwidth&quot;:2.700000047683716,&quot;petallength&quot;:5.099999904632568,&quot;class&quot;:&quot;Iris-virginica&quot;},{&quot;petalwidth&quot;:2.0999999046325684,&quot;sepallength&quot;:7.099999904632568,&quot;sepalwidth&quot;:3.0,&quot;petallength&quot;:5.900000095367432,&quot;class&quot;:&quot;Iris-virginica&quot;},{&quot;petalwidth&quot;:1.7999999523162842,&quot;sepallength&quot;:6.300000190734863,&quot;sepalwidth&quot;:2.9000000953674316,&quot;petallength&quot;:5.599999904632568,&quot;class&quot;:&quot;Iris-virginica&quot;},{&quot;petalwidth&quot;:2.200000047683716,&quot;sepallength&quot;:6.5,&quot;sepalwidth&quot;:3.0,&quot;petallength&quot;:5.800000190734863,&quot;class&quot;:&quot;Iris-virginica&quot;},{&quot;petalwidth&quot;:2.0999999046325684,&quot;sepallength&quot;:7.599999904632568,&quot;sepalwidth&quot;:3.0,&quot;petallength&quot;:6.599999904632568,&quot;class&quot;:&quot;Iris-virginica&quot;},{&quot;petalwidth&quot;:1.7000000476837158,&quot;sepallength&quot;:4.900000095367432,&quot;sepalwidth&quot;:2.5,&quot;petallength&quot;:4.5,&quot;class&quot;:&quot;Iris-virginica&quot;},{&quot;petalwidth&quot;:1.7999999523162842,&quot;sepallength&quot;:7.300000190734863,&quot;sepalwidth&quot;:2.9000000953674316,&quot;petallength&quot;:6.300000190734863,&quot;class&quot;:&quot;Iris-virginica&quot;},{&quot;petalwidth&quot;:1.7999999523162842,&quot;sepallength&quot;:6.699999809265137,&quot;sepalwidth&quot;:2.5,&quot;petallength&quot;:5.800000190734863,&quot;class&quot;:&quot;Iris-virginica&quot;},{&quot;petalwidth&quot;:2.5,&quot;sepallength&quot;:7.199999809265137,&quot;sepalwidth&quot;:3.5999999046325684,&quot;petallength&quot;:6.099999904632568,&quot;class&quot;:&quot;Iris-virginica&quot;},{&quot;petalwidth&quot;:2.0,&quot;sepallength&quot;:6.5,&quot;sepalwidth&quot;:3.200000047683716,&quot;petallength&quot;:5.099999904632568,&quot;class&quot;:&quot;Iris-virginica&quot;},{&quot;petalwidth&quot;:1.899999976158142,&quot;sepallength&quot;:6.400000095367432,&quot;sepalwidth&quot;:2.700000047683716,&quot;petallength&quot;:5.300000190734863,&quot;class&quot;:&quot;Iris-virginica&quot;},{&quot;petalwidth&quot;:2.0999999046325684,&quot;sepallength&quot;:6.800000190734863,&quot;sepalwidth&quot;:3.0,&quot;petallength&quot;:5.5,&quot;class&quot;:&quot;Iris-virginica&quot;},{&quot;petalwidth&quot;:2.0,&quot;sepallength&quot;:5.699999809265137,&quot;sepalwidth&quot;:2.5,&quot;petallength&quot;:5.0,&quot;class&quot;:&quot;Iris-virginica&quot;},{&quot;petalwidth&quot;:2.4000000953674316,&quot;sepallength&quot;:5.800000190734863,&quot;sepalwidth&quot;:2.799999952316284,&quot;petallength&quot;:5.099999904632568,&quot;class&quot;:&quot;Iris-virginica&quot;},{&quot;petalwidth&quot;:2.299999952316284,&quot;sepallength&quot;:6.400000095367432,&quot;sepalwidth&quot;:3.200000047683716,&quot;petallength&quot;:5.300000190734863,&quot;class&quot;:&quot;Iris-virginica&quot;},{&quot;petalwidth&quot;:1.7999999523162842,&quot;sepallength&quot;:6.5,&quot;sepalwidth&quot;:3.0,&quot;petallength&quot;:5.5,&quot;class&quot;:&quot;Iris-virginica&quot;},{&quot;petalwidth&quot;:2.200000047683716,&quot;sepallength&quot;:7.699999809265137,&quot;sepalwidth&quot;:3.799999952316284,&quot;petallength&quot;:6.699999809265137,&quot;class&quot;:&quot;Iris-virginica&quot;},{&quot;petalwidth&quot;:2.299999952316284,&quot;sepallength&quot;:7.699999809265137,&quot;sepalwidth&quot;:2.5999999046325684,&quot;petallength&quot;:6.900000095367432,&quot;class&quot;:&quot;Iris-virginica&quot;},{&quot;petalwidth&quot;:1.5,&quot;sepallength&quot;:6.0,&quot;sepalwidth&quot;:2.200000047683716,&quot;petallength&quot;:5.0,&quot;class&quot;:&quot;Iris-virginica&quot;},{&quot;petalwidth&quot;:2.299999952316284,&quot;sepallength&quot;:6.900000095367432,&quot;sepalwidth&quot;:3.200000047683716,&quot;petallength&quot;:5.699999809265137,&quot;class&quot;:&quot;Iris-virginica&quot;},{&quot;petalwidth&quot;:2.0,&quot;sepallength&quot;:5.599999904632568,&quot;sepalwidth&quot;:2.799999952316284,&quot;petallength&quot;:4.900000095367432,&quot;class&quot;:&quot;Iris-virginica&quot;},{&quot;petalwidth&quot;:2.0,&quot;sepallength&quot;:7.699999809265137,&quot;sepalwidth&quot;:2.799999952316284,&quot;petallength&quot;:6.699999809265137,&quot;class&quot;:&quot;Iris-virginica&quot;},{&quot;petalwidth&quot;:1.7999999523162842,&quot;sepallength&quot;:6.300000190734863,&quot;sepalwidth&quot;:2.700000047683716,&quot;petallength&quot;:4.900000095367432,&quot;class&quot;:&quot;Iris-virginica&quot;},{&quot;petalwidth&quot;:2.0999999046325684,&quot;sepallength&quot;:6.699999809265137,&quot;sepalwidth&quot;:3.299999952316284,&quot;petallength&quot;:5.699999809265137,&quot;class&quot;:&quot;Iris-virginica&quot;},{&quot;petalwidth&quot;:1.7999999523162842,&quot;sepallength&quot;:7.199999809265137,&quot;sepalwidth&quot;:3.200000047683716,&quot;petallength&quot;:6.0,&quot;class&quot;:&quot;Iris-virginica&quot;},{&quot;petalwidth&quot;:1.7999999523162842,&quot;sepallength&quot;:6.199999809265137,&quot;sepalwidth&quot;:2.799999952316284,&quot;petallength&quot;:4.800000190734863,&quot;class&quot;:&quot;Iris-virginica&quot;},{&quot;petalwidth&quot;:1.7999999523162842,&quot;sepallength&quot;:6.099999904632568,&quot;sepalwidth&quot;:3.0,&quot;petallength&quot;:4.900000095367432,&quot;class&quot;:&quot;Iris-virginica&quot;},{&quot;petalwidth&quot;:2.0999999046325684,&quot;sepallength&quot;:6.400000095367432,&quot;sepalwidth&quot;:2.799999952316284,&quot;petallength&quot;:5.599999904632568,&quot;class&quot;:&quot;Iris-virginica&quot;},{&quot;petalwidth&quot;:1.600000023841858,&quot;sepallength&quot;:7.199999809265137,&quot;sepalwidth&quot;:3.0,&quot;petallength&quot;:5.800000190734863,&quot;class&quot;:&quot;Iris-virginica&quot;},{&quot;petalwidth&quot;:1.899999976158142,&quot;sepallength&quot;:7.400000095367432,&quot;sepalwidth&quot;:2.799999952316284,&quot;petallength&quot;:6.099999904632568,&quot;class&quot;:&quot;Iris-virginica&quot;},{&quot;petalwidth&quot;:2.0,&quot;sepallength&quot;:7.900000095367432,&quot;sepalwidth&quot;:3.799999952316284,&quot;petallength&quot;:6.400000095367432,&quot;class&quot;:&quot;Iris-virginica&quot;},{&quot;petalwidth&quot;:2.200000047683716,&quot;sepallength&quot;:6.400000095367432,&quot;sepalwidth&quot;:2.799999952316284,&quot;petallength&quot;:5.599999904632568,&quot;class&quot;:&quot;Iris-virginica&quot;},{&quot;petalwidth&quot;:1.5,&quot;sepallength&quot;:6.300000190734863,&quot;sepalwidth&quot;:2.799999952316284,&quot;petallength&quot;:5.099999904632568,&quot;class&quot;:&quot;Iris-virginica&quot;},{&quot;petalwidth&quot;:1.399999976158142,&quot;sepallength&quot;:6.099999904632568,&quot;sepalwidth&quot;:2.5999999046325684,&quot;petallength&quot;:5.599999904632568,&quot;class&quot;:&quot;Iris-virginica&quot;},{&quot;petalwidth&quot;:2.299999952316284,&quot;sepallength&quot;:7.699999809265137,&quot;sepalwidth&quot;:3.0,&quot;petallength&quot;:6.099999904632568,&quot;class&quot;:&quot;Iris-virginica&quot;},{&quot;petalwidth&quot;:2.4000000953674316,&quot;sepallength&quot;:6.300000190734863,&quot;sepalwidth&quot;:3.4000000953674316,&quot;petallength&quot;:5.599999904632568,&quot;class&quot;:&quot;Iris-virginica&quot;},{&quot;petalwidth&quot;:1.7999999523162842,&quot;sepallength&quot;:6.400000095367432,&quot;sepalwidth&quot;:3.0999999046325684,&quot;petallength&quot;:5.5,&quot;class&quot;:&quot;Iris-virginica&quot;},{&quot;petalwidth&quot;:1.7999999523162842,&quot;sepallength&quot;:6.0,&quot;sepalwidth&quot;:3.0,&quot;petallength&quot;:4.800000190734863,&quot;class&quot;:&quot;Iris-virginica&quot;},{&quot;petalwidth&quot;:2.0999999046325684,&quot;sepallength&quot;:6.900000095367432,&quot;sepalwidth&quot;:3.0999999046325684,&quot;petallength&quot;:5.400000095367432,&quot;class&quot;:&quot;Iris-virginica&quot;},{&quot;petalwidth&quot;:2.4000000953674316,&quot;sepallength&quot;:6.699999809265137,&quot;sepalwidth&quot;:3.0999999046325684,&quot;petallength&quot;:5.599999904632568,&quot;class&quot;:&quot;Iris-virginica&quot;},{&quot;petalwidth&quot;:2.299999952316284,&quot;sepallength&quot;:6.900000095367432,&quot;sepalwidth&quot;:3.0999999046325684,&quot;petallength&quot;:5.099999904632568,&quot;class&quot;:&quot;Iris-virginica&quot;},{&quot;petalwidth&quot;:1.899999976158142,&quot;sepallength&quot;:5.800000190734863,&quot;sepalwidth&quot;:2.700000047683716,&quot;petallength&quot;:5.099999904632568,&quot;class&quot;:&quot;Iris-virginica&quot;},{&quot;petalwidth&quot;:2.299999952316284,&quot;sepallength&quot;:6.800000190734863,&quot;sepalwidth&quot;:3.200000047683716,&quot;petallength&quot;:5.900000095367432,&quot;class&quot;:&quot;Iris-virginica&quot;},{&quot;petalwidth&quot;:2.5,&quot;sepallength&quot;:6.699999809265137,&quot;sepalwidth&quot;:3.299999952316284,&quot;petallength&quot;:5.699999809265137,&quot;class&quot;:&quot;Iris-virginica&quot;},{&quot;petalwidth&quot;:2.299999952316284,&quot;sepallength&quot;:6.699999809265137,&quot;sepalwidth&quot;:3.0,&quot;petallength&quot;:5.199999809265137,&quot;class&quot;:&quot;Iris-virginica&quot;},{&quot;petalwidth&quot;:1.899999976158142,&quot;sepallength&quot;:6.300000190734863,&quot;sepalwidth&quot;:2.5,&quot;petallength&quot;:5.0,&quot;class&quot;:&quot;Iris-virginica&quot;},{&quot;petalwidth&quot;:2.0,&quot;sepallength&quot;:6.5,&quot;sepalwidth&quot;:3.0,&quot;petallength&quot;:5.199999809265137,&quot;class&quot;:&quot;Iris-virginica&quot;},{&quot;petalwidth&quot;:2.299999952316284,&quot;sepallength&quot;:6.199999809265137,&quot;sepalwidth&quot;:3.4000000953674316,&quot;petallength&quot;:5.400000095367432,&quot;class&quot;:&quot;Iris-virginica&quot;},{&quot;petalwidth&quot;:1.7999999523162842,&quot;sepallength&quot;:5.900000095367432,&quot;sepalwidth&quot;:3.0,&quot;petallength&quot;:5.099999904632568,&quot;class&quot;:&quot;Iris-virginica&quot;}]},&quot;encoding&quot;:{&quot;color&quot;:{&quot;condition&quot;:{&quot;selection&quot;:&quot;brush&quot;,&quot;field&quot;:&quot;class&quot;,&quot;type&quot;:&quot;nominal&quot;},&quot;value&quot;:&quot;grey&quot;},&quot;x&quot;:{&quot;field&quot;:{&quot;repeat&quot;:&quot;column&quot;},&quot;type&quot;:&quot;quantitative&quot;},&quot;y&quot;:{&quot;field&quot;:{&quot;repeat&quot;:&quot;row&quot;},&quot;axis&quot;:{&quot;minExtent&quot;:30},&quot;type&quot;:&quot;quantitative&quot;}},&quot;mark&quot;:&quot;point&quot;}};\n",
       "  vegaEmbed('#vega-lite', spec);\n",
       "&lt;/script&gt;\n",
       "&lt;/body&gt;\n",
       "&lt;/html&gt;\n",
       "    \"></iframe>\n",
       "  <script>\n",
       "    (function() {\n",
       "      function resizeIFrame(el, k) {\n",
       "        var height = el.contentWindow.document.body.scrollHeight || '400'; // Fallback in case of no scroll height\n",
       "        el.style.height = height + 'px';\n",
       "        if (k <= 10) { setTimeout(function() { resizeIFrame(el, k+1) }, 1000 + (k * 250)) };\n",
       "      }\n",
       "      resizeIFrame(document.querySelector('#f496f434-6e5b-42a1-b67c-9e89f831d678'), 1);\n",
       "    })(); // IIFE\n",
       "  </script>\n",
       "    "
      ]
     },
     "metadata": {},
     "output_type": "display_data"
    }
   ],
   "source": [
    "show(spm(iris, clazz=Some(\"class\")))"
   ]
  },
  {
   "cell_type": "code",
   "execution_count": 6,
   "metadata": {},
   "outputs": [
    {
     "data": {
      "text/html": [
       "<img src=\"data:image/png;base64,iVBORw0KGgoAAAANSUhEUgAAAH4AAAATCAYAAABWSbkMAAABW0lEQVR42u3YIauDUBQH8An7LktmEcwK1rHkh1gXi1UwyMLcPoArdsHZLOYVg8UkyIaGMViZ//cUXniPZ3i8e8P0HDjFcrzevz8udwGqWdaCPsFMN/6zMNbX65XJkLquR7vrOmaLuVwu8DwPlmUhjmM8n0/WH2toQRAgyzIcx0FRFFxm/OzVaoX7/c5uTr+Isb7dblwX827hUlUV+/0eVVXx/BNxOByw2WygKAratoWmaRBFEa/Xiy/1hmHgdDoxG/JbqL7+nHcP13q9HjaKVbj6903TFLvdDsvlEk3TQJKk4Xme50Q9UU/UE/WsqHddF1mWcaV+KuGybRtRFHGlvg8BUU/UE/VE/T/mBEGAx+PB9bJgKuHyfR9lWXINV/++5/P5G/XH45GoJ+qJeqKeTvV0qifqiXqinqj/I/WmaSJJEq7UT+WufrvdIgxDrtTrus6eelDNsmjjZ1ofm+6vk1CvRi4AAAAASUVORK5CYII=\">"
      ]
     },
     "metadata": {},
     "output_type": "display_data"
    },
    {
     "data": {
      "text/plain": [
       "\u001b[32mimport \u001b[39m\u001b[36msmile.plot.swing._\n",
       "\u001b[39m"
      ]
     },
     "execution_count": 6,
     "metadata": {},
     "output_type": "execute_result"
    }
   ],
   "source": [
    "show(smile.plot.swing.plot(iris, 'o'))"
   ]
  },
  {
   "cell_type": "code",
   "execution_count": 5,
   "metadata": {},
   "outputs": [
    {
     "data": {
      "text/plain": [
       "\u001b[32mimport \u001b[39m\u001b[36mjava.lang.Math\n",
       "\u001b[39m\n",
       "\u001b[36mheart\u001b[39m: \u001b[32mIndexedSeq\u001b[39m[\u001b[32mArray\u001b[39m[\u001b[32mDouble\u001b[39m]] = \u001b[33mVector\u001b[39m(\n",
       "  \u001b[33mArray\u001b[39m(\u001b[32m-6.463732966847141E-8\u001b[39m, \u001b[32m-16.999960683595546\u001b[39m),\n",
       "  \u001b[33mArray\u001b[39m(\u001b[32m-2.492524155144247E-5\u001b[39m, \u001b[32m-16.997917101644497\u001b[39m),\n",
       "  \u001b[33mArray\u001b[39m(\u001b[32m-1.6104112289149345E-4\u001b[39m, \u001b[32m-16.992774931671576\u001b[39m),\n",
       "  \u001b[33mArray\u001b[39m(\u001b[32m-5.042681728047771E-4\u001b[39m, \u001b[32m-16.984537273625897\u001b[39m),\n",
       "  \u001b[33mArray\u001b[39m(\u001b[32m-0.001150255171237311\u001b[39m, \u001b[32m-16.973209090042378\u001b[39m),\n",
       "  \u001b[33mArray\u001b[39m(\u001b[32m-0.002194348113494316\u001b[39m, \u001b[32m-16.958797198160877\u001b[39m),\n",
       "  \u001b[33mArray\u001b[39m(\u001b[32m-0.0037314948126257923\u001b[39m, \u001b[32m-16.941310259102387\u001b[39m),\n",
       "  \u001b[33mArray\u001b[39m(\u001b[32m-0.005856149864141234\u001b[39m, \u001b[32m-16.920758764121906\u001b[39m),\n",
       "  \u001b[33mArray\u001b[39m(\u001b[32m-0.008662180059536085\u001b[39m, \u001b[32m-16.897155017962813\u001b[39m),\n",
       "  \u001b[33mArray\u001b[39m(\u001b[32m-0.012242770334712043\u001b[39m, \u001b[32m-16.87051311934288\u001b[39m),\n",
       "  \u001b[33mArray\u001b[39m(\u001b[32m-0.01669033033888591\u001b[39m, \u001b[32m-16.84084893860716\u001b[39m),\n",
       "  \u001b[33mArray\u001b[39m(\u001b[32m-0.02209640170902985\u001b[39m, \u001b[32m-16.808180092588184\u001b[39m),\n",
       "  \u001b[33mArray\u001b[39m(\u001b[32m-0.028551566134240997\u001b[39m, \u001b[32m-16.772525916718998\u001b[39m),\n",
       "  \u001b[33mArray\u001b[39m(\u001b[32m-0.03614535429373789\u001b[39m, \u001b[32m-16.73390743444939\u001b[39m),\n",
       "  \u001b[33mArray\u001b[39m(\u001b[32m-0.044966155751380375\u001b[39m, \u001b[32m-16.692347324020762\u001b[39m),\n",
       "  \u001b[33mArray\u001b[39m(\u001b[32m-0.05510112988876378\u001b[39m, \u001b[32m-16.647869882659734\u001b[39m),\n",
       "  \u001b[33mArray\u001b[39m(\u001b[32m-0.06663611795798619\u001b[39m, \u001b[32m-16.60050098825533\u001b[39m),\n",
       "  \u001b[33mArray\u001b[39m(\u001b[32m-0.07965555633418872\u001b[39m, \u001b[32m-16.550268058589143\u001b[39m),\n",
       "  \u001b[33mArray\u001b[39m(\u001b[32m-0.09424239104689118\u001b[39m, \u001b[32m-16.497200008192383\u001b[39m),\n",
       "  \u001b[33mArray\u001b[39m(\u001b[32m-0.11047799366797405\u001b[39m, \u001b[32m-16.441327202907953\u001b[39m),\n",
       "  \u001b[33mArray\u001b[39m(\u001b[32m-0.12844207863296622\u001b[39m, \u001b[32m-16.38268141224\u001b[39m),\n",
       "  \u001b[33mArray\u001b[39m(\u001b[32m-0.1482126220709681\u001b[39m, \u001b[32m-16.32129575957734\u001b[39m),\n",
       "  \u001b[33mArray\u001b[39m(\u001b[32m-0.16986578221722445\u001b[39m, \u001b[32m-16.25720467038103\u001b[39m),\n",
       "  \u001b[33mArray\u001b[39m(\u001b[32m-0.19347582148088532\u001b[39m, \u001b[32m-16.19044381843033\u001b[39m),\n",
       "  \u001b[33mArray\u001b[39m(\u001b[32m-0.21911503023905704\u001b[39m, \u001b[32m-16.12105007022445\u001b[39m),\n",
       "  \u001b[33mArray\u001b[39m(\u001b[32m-0.24685365242662968\u001b[39m, \u001b[32m-16.04906142764135\u001b[39m),\n",
       "  \u001b[33mArray\u001b[39m(\u001b[32m-0.2767598129898154\u001b[39m, \u001b[32m-15.974516968957737\u001b[39m),\n",
       "  \u001b[33mArray\u001b[39m(\u001b[32m-0.3088994472695784\u001b[39m, \u001b[32m-15.897456788337571\u001b[39m),\n",
       "  \u001b[33mArray\u001b[39m(\u001b[32m-0.34333623237948085\u001b[39m, \u001b[32m-15.817921933899296\u001b[39m),\n",
       "  \u001b[33mArray\u001b[39m(\u001b[32m-0.3801315206405825\u001b[39m, \u001b[32m-15.735954344474662\u001b[39m),\n",
       "  \u001b[33mArray\u001b[39m(\u001b[32m-0.41934427513427186\u001b[39m, \u001b[32m-15.651596785174224\u001b[39m),\n",
       "  \u001b[33mArray\u001b[39m(\u001b[32m-0.46103100743190056\u001b[39m, \u001b[32m-15.564892781877404\u001b[39m),\n",
       "  \u001b[33mArray\u001b[39m(\u001b[32m-0.5052457175582339\u001b[39m, \u001b[32m-15.475886554766372\u001b[39m),\n",
       "  \u001b[33mArray\u001b[39m(\u001b[32m-0.5520398362436082\u001b[39m, \u001b[32m-15.384622951025493\u001b[39m),\n",
       "  \u001b[33mArray\u001b[39m(\u001b[32m-0.6014621695177373\u001b[39m, \u001b[32m-15.291147376829185\u001b[39m),\n",
       "  \u001b[33mArray\u001b[39m(\u001b[32m-0.653558845695882\u001b[39m, \u001b[32m-15.195505728742893\u001b[39m),\n",
       "  \u001b[33mArray\u001b[39m(\u001b[32m-0.7083732648060654\u001b[39m, \u001b[32m-15.097744324662706\u001b[39m),\n",
       "  \u001b[33mArray\u001b[39m(\u001b[32m-0.7659460505036814\u001b[39m, \u001b[32m-14.997909834420364\u001b[39m),\n",
       "..."
      ]
     },
     "execution_count": 5,
     "metadata": {},
     "output_type": "execute_result"
    }
   ],
   "source": [
    "import java.lang.Math\n",
    "val heart = -314 to 314 map { i =>\n",
    "    val t = i / 100.0\n",
    "    val x = 16 * Math.pow(Math.sin(t), 3)\n",
    "    val y = 13 * Math.cos(t) - 5 * Math.cos(2*t) - 2 * Math.cos(3*t) - Math.cos(4*t)\n",
    "    Array(x, y)\n",
    "}"
   ]
  },
  {
   "cell_type": "code",
   "execution_count": 7,
   "metadata": {},
   "outputs": [
    {
     "data": {
      "text/html": [
       "\n",
       "  <iframe id=\"41364e12-2df8-464e-9680-2d6eeb9c43e1\" sandbox=\"allow-scripts allow-same-origin\" style=\"border: none; width: 100%\" srcdoc=\"\n",
       "&lt;!DOCTYPE html&gt;\n",
       "&lt;html&gt;\n",
       "&lt;head&gt;\n",
       "  &lt;script src=&quot;https://cdn.jsdelivr.net/npm/vega@5.8.1&quot;&gt;&lt;/script&gt;\n",
       "  &lt;script src=&quot;https://cdn.jsdelivr.net/npm/vega-lite@4.0.0-beta.12&quot;&gt;&lt;/script&gt;\n",
       "  &lt;script src=&quot;https://cdn.jsdelivr.net/npm/vega-embed@6.1.0&quot;&gt;&lt;/script&gt;\n",
       "&lt;/head&gt;\n",
       "&lt;body&gt;\n",
       "\n",
       "&lt;div id=&quot;vega-lite&quot;&gt;&lt;/div&gt;\n",
       "\n",
       "&lt;script type=&quot;text/javascript&quot;&gt;\n",
       "  var spec = {&quot;data&quot;:{&quot;values&quot;:[{&quot;x&quot;:-6.463732966847141E-8,&quot;y&quot;:-16.999960683595546},{&quot;x&quot;:-2.492524155144247E-5,&quot;y&quot;:-16.997917101644497},{&quot;x&quot;:-1.6104112289149345E-4,&quot;y&quot;:-16.992774931671576},{&quot;x&quot;:-5.042681728047771E-4,&quot;y&quot;:-16.984537273625897},{&quot;x&quot;:-0.001150255171237311,&quot;y&quot;:-16.973209090042378},{&quot;x&quot;:-0.002194348113494316,&quot;y&quot;:-16.958797198160877},{&quot;x&quot;:-0.0037314948126257923,&quot;y&quot;:-16.941310259102387},{&quot;x&quot;:-0.005856149864141234,&quot;y&quot;:-16.920758764121906},{&quot;x&quot;:-0.008662180059536085,&quot;y&quot;:-16.897155017962813},{&quot;x&quot;:-0.012242770334712043,&quot;y&quot;:-16.87051311934288},{&quot;x&quot;:-0.01669033033888591,&quot;y&quot;:-16.84084893860716},{&quot;x&quot;:-0.02209640170902985,&quot;y&quot;:-16.808180092588184},{&quot;x&quot;:-0.028551566134240997,&quot;y&quot;:-16.772525916718998},{&quot;x&quot;:-0.03614535429373789,&quot;y&quot;:-16.73390743444939},{&quot;x&quot;:-0.044966155751380375,&quot;y&quot;:-16.692347324020762},{&quot;x&quot;:-0.05510112988876378,&quot;y&quot;:-16.647869882659734},{&quot;x&quot;:-0.06663611795798619,&quot;y&quot;:-16.60050098825533},{&quot;x&quot;:-0.07965555633418872,&quot;y&quot;:-16.550268058589143},{&quot;x&quot;:-0.09424239104689118,&quot;y&quot;:-16.497200008192383},{&quot;x&quot;:-0.11047799366797405,&quot;y&quot;:-16.441327202907953},{&quot;x&quot;:-0.12844207863296622,&quot;y&quot;:-16.38268141224},{&quot;x&quot;:-0.1482126220709681,&quot;y&quot;:-16.32129575957734},{&quot;x&quot;:-0.16986578221722445,&quot;y&quot;:-16.25720467038103},{&quot;x&quot;:-0.19347582148088532,&quot;y&quot;:-16.19044381843033},{&quot;x&quot;:-0.21911503023905704,&quot;y&quot;:-16.12105007022445},{&quot;x&quot;:-0.24685365242662968,&quot;y&quot;:-16.04906142764135},{&quot;x&quot;:-0.2767598129898154,&quot;y&quot;:-15.974516968957737},{&quot;x&quot;:-0.3088994472695784,&quot;y&quot;:-15.897456788337571},{&quot;x&quot;:-0.34333623237948085,&quot;y&quot;:-15.817921933899296},{&quot;x&quot;:-0.3801315206405825,&quot;y&quot;:-15.735954344474662},{&quot;x&quot;:-0.41934427513427186,&quot;y&quot;:-15.651596785174224},{&quot;x&quot;:-0.46103100743190056,&quot;y&quot;:-15.564892781877404},{&quot;x&quot;:-0.5052457175582339,&quot;y&quot;:-15.475886554766372},{&quot;x&quot;:-0.5520398362436082,&quot;y&quot;:-15.384622951025493},{&quot;x&quot;:-0.6014621695177373,&quot;y&quot;:-15.291147376829185},{&quot;x&quot;:-0.653558845695882,&quot;y&quot;:-15.195505728742893},{&quot;x&quot;:-0.7083732648060654,&quot;y&quot;:-15.097744324662706},{&quot;x&quot;:-0.7659460505036814,&quot;y&quot;:-14.997909834420364},{&quot;x&quot;:-0.8263150045177469,&quot;y&quot;:-14.896049210181053},{&quot;x&quot;:-0.8895150636706192,&quot;y&quot;:-14.792209616761932},{&quot;x&quot;:-0.9555782595108235,&quot;y&quot;:-14.686438361999596},{&quot;x&quot;:-1.0245336805961562,&quot;y&quot;:-14.578782827294797},{&quot;x&quot;:-1.0964074374619113,&quot;y&quot;:-14.469290398462617},{&quot;x&quot;:-1.1712226303066815,&quot;y&quot;:-14.358008397015727},{&quot;x&quot;:-1.2489993194256128,&quot;y&quot;:-14.244984012008048},{&quot;x&quot;:-1.3297544984187009,&quot;y&quot;:-14.130264232564981},{&quot;x&quot;:-1.4135020701990062,&quot;y&quot;:-14.013895781225536},{&quot;x&quot;:-1.500252825823357,&quot;y&quot;:-13.895925048220269},{&quot;x&quot;:-1.5900144261653506,&quot;y&quot;:-13.776398026807538},{&quot;x&quot;:-1.682791386448112,&quot;y&quot;:-13.655360249788698},{&quot;x&quot;:-1.778585063651482,&quot;y&quot;:-13.532856727321137},{&quot;x&quot;:-1.8773936468059262,&quot;y&quot;:-13.408931886145597},{&quot;x&quot;:-1.9792121501826403,&quot;y&quot;:-13.283629510342232},{&quot;x&quot;:-2.0840324093869373,&quot;y&quot;:-13.156992683726822},{&quot;x&quot;:-2.19184308035915,&quot;y&quot;:-13.029063733996269},{&quot;x&quot;:-2.302629641284911,&quot;y&quot;:-12.899884178729065},{&quot;x&quot;:-2.4163743974137906,&quot;y&quot;:-12.769494673343647},{&quot;x&quot;:-2.533056488782911,&quot;y&quot;:-12.63793496111383},{&quot;x&quot;:-2.6526519008392753,&quot;y&quot;:-12.505243825337368},{&quot;x&quot;:-2.7751334779522043,&quot;y&quot;:-12.371459043749478},{&quot;x&quot;:-2.9004709398043786,&quot;y&quot;:-12.236617345269849},{&quot;x&quot;:-3.028630900647705,&quot;y&quot;:-12.10075436916702},{&quot;x&quot;:-3.1595768914073137,&quot;y&quot;:-11.963904626720305},{&quot;x&quot;:-3.2932693846147476,&quot;y&quot;:-11.82610146545468},{&quot;x&quot;:-3.4296658221485217,&quot;y&quot;:-11.68737703601987},{&quot;x&quot;:-3.5687206457580674,&quot;y&quot;:-11.547762261779914},{&quot;x&quot;:-3.7103853303441836,&quot;y&quot;:-11.407286811175013},{&quot;x&quot;:-3.8546084199669144,&quot;y&quot;:-11.265979072912396},{&quot;x&quot;:-4.001335566549268,&quot;y&quot;:-11.123866134037883},{&quot;x&quot;:-4.150509571242513,&quot;y&quot;:-10.980973760934997},{&quot;x&quot;:-4.302070428416844,&quot;y&quot;:-10.837326383292863},{&quot;x&quot;:-4.455955372238308,&quot;y&quot;:-10.692947081079307},{&quot;x&quot;:-4.612098925791067,&quot;y&quot;:-10.547857574549695},{&quot;x&quot;:-4.770432952701295,&quot;y&quot;:-10.402078217317158},{&quot;x&quot;:-4.9308867112172,&quot;y&quot;:-10.255627992503806},{&quot;x&quot;:-5.093386910697007,&quot;y&quot;:-10.10852451198751},{&quot;x&quot;:-5.257857770455022,&quot;y&quot;:-9.960784018752744},{&quot;x&quot;:-5.424221080913279,&quot;y&quot;:-9.812421392348872},{&quot;x&quot;:-5.592396267004685,&quot;y&quot;:-9.663450157453095},{&quot;x&quot;:-5.762300453771076,&quot;y&quot;:-9.513882495530128},{&quot;x&quot;:-5.9338485340980665,&quot;y&quot;:-9.363729259574598},{&quot;x&quot;:-6.10695323852619,&quot;y&quot;:-9.212999991916842},{&quot;x&quot;:-6.2815252070763945,&quot;y&quot;:-9.061702945066857},{&quot;x&quot;:-6.457473063025758,&quot;y&quot;:-8.909845105565852},{&quot;x&quot;:-6.634703488567845,&quot;y&quot;:-8.757432220808989},{&quot;x&quot;:-6.813121302290088,&quot;y&quot;:-8.604468828797629},{&quot;x&quot;:-6.992629538399342,&quot;y&quot;:-8.450958290773702},{&quot;x&quot;:-7.173129527624754,&quot;y&quot;:-8.2969028266837},{&quot;x&quot;:-7.3545209797259155,&quot;y&quot;:-8.142303553414102},{&quot;x&quot;:-7.536702067532583,&quot;y&quot;:-7.987160525735189},{&quot;x&quot;:-7.719569512441047,&quot;y&quot;:-7.831472779884642},{&quot;x&quot;:-7.903018671290735,&quot;y&quot;:-7.675238379717722},{&quot;x&quot;:-8.0869436245435,&quot;y&quot;:-7.518454465345448},{&quot;x&quot;:-8.271237265686915,&quot;y&quot;:-7.361117304177602},{&quot;x&quot;:-8.455791391781567,&quot;y&quot;:-7.203222344282802},{&quot;x&quot;:-8.640496795071583,&quot;y&quot;:-7.044764269972917},{&quot;x&quot;:-8.825243355576394,&quot;y&quot;:-6.88573705951525},{&quot;x&quot;:-9.009920134581165,&quot;y&quot;:-6.72613404487104},{&quot;x&quot;:-9.194415468942019,&quot;y&quot;:-6.565947973355314},{&quot;x&quot;:-9.378617066122144,&quot;y&quot;:-6.405171071108659},{&quot;x&quot;:-9.562412099873356,&quot;y&quot;:-6.243795108268167},{&quot;x&quot;:-9.745687306477949,&quot;y&quot;:-6.081811465720848},{&quot;x&quot;:-9.928329081464437,&quot;y&quot;:-5.919211203319732},{&quot;x&quot;:-10.110223576710947,&quot;y&quot;:-5.755985129439374},{&quot;x&quot;:-10.291256797849083,&quot;y&quot;:-5.592123871744795},{&quot;x&quot;:-10.471314701881441,&quot;y&quot;:-5.4276179490447305},{&quot;x&quot;:-10.650283294925112,&quot;y&quot;:-5.262457844097883},{&quot;x&quot;:-10.828048729993991,&quot;y&quot;:-5.096634077238039},{&quot;x&quot;:-11.00449740473208,&quot;y&quot;:-4.930137280682281},{&quot;x&quot;:-11.179516059010576,&quot;y&quot;:-4.762958273384024},{&quot;x&quot;:-11.352991872301171,&quot;y&quot;:-4.5950881362914915},{&quot;x&quot;:-11.524812560738543,&quot;y&quot;:-4.426518287870241},{&quot;x&quot;:-11.694866473784963,&quot;y&quot;:-4.257240559747585},{&quot;x&quot;:-11.863042690410714,&quot;y&quot;:-4.087247272335324},{&quot;x&quot;:-12.029231114703885,&quot;y&quot;:-3.9165313102869104},{&quot;x&quot;:-12.193322570824213,&quot;y&quot;:-3.745086197644161},{&quot;x&quot;:-12.355208897215736,&quot;y&quot;:-3.572906172528851},{&quot;x&quot;:-12.514783039993953,&quot;y&quot;:-3.3999862612340825},{&quot;x&quot;:-12.671939145423835,&quot;y&quot;:-3.226322351570849},{&quot;x&quot;:-12.82657265140587,&quot;y&quot;:-3.0519112653255047},{&quot;x&quot;:-12.978580377888127,&quot;y&quot;:-2.8767508296846573},{&quot;x&quot;:-13.127860616123415,&quot;y&quot;:-2.700839947484909},{&quot;x&quot;:-13.274313216691509,&quot;y&quot;:-2.524178666146127},{&quot;x&quot;:-13.417839676207647,&quot;y&quot;:-2.3467682451483345},{&quot;x&quot;:-13.558343222639524,&quot;y&quot;:-2.1686112219140337},{&quot;x&quot;:-13.695728899156434,&quot;y&quot;:-1.989711475959698},{&quot;x&quot;:-13.829903646435318,&quot;y&quot;:-1.8100742911823389},{&quot;x&quot;:-13.960776383350069,&quot;y&quot;:-1.6297064161494719},{&quot;x&quot;:-14.088258085971704,&quot;y&quot;:-1.4486161222634215},{&quot;x&quot;:-14.212261864808646,&quot;y&quot;:-1.2668132596738397},{&quot;x&quot;:-14.332703040217883,&quot;y&quot;:-1.0843093108152837},{&quot;x&quot;:-14.449499215919415,&quot;y&quot;:-0.9011174414501536},{&quot;x&quot;:-14.5625703505481,&quot;y&quot;:-0.7172525491007071},{&quot;x&quot;:-14.671838827178767,&quot;y&quot;:-0.5327313087576777},{&quot;x&quot;:-14.77722952076229,&quot;y&quot;:-0.347572215756921},{&quot;x&quot;:-14.878669863412155,&quot;y&quot;:-0.16179562571969286},{&quot;x&quot;:-14.976089907483013,&quot;y&quot;:0.024576208543522826},{&quot;x&quot;:-15.06942238638469,&quot;y&quot;:0.21151910326119605},{&quot;x&quot;:-15.158602773077089,&quot;y&quot;:0.3990069131517864},{&quot;x&quot;:-15.243569336193612,&quot;y&quot;:0.5870115041835983},{&quot;x&quot;:-15.32426319374273,&quot;y&quot;:0.7755027297244099},{&quot;x&quot;:-15.400628364339616,&quot;y&quot;:0.9644484101565911},{&quot;x&quot;:-15.472611815921837,&quot;y&quot;:1.1538143160281038},{&quot;x&quot;:-15.540163511905524,&quot;y&quot;:1.3435641548042923},{&quot;x&quot;:-15.60323645474055,&quot;y&quot;:1.5336595612796988},{&quot;x&quot;:-15.661786726825737,&quot;y&quot;:1.7240600917034774},{&quot;x&quot;:-15.715773528747347,&quot;y&quot;:1.9147232216660361},{&quot;x&quot;:-15.765159214806635,&quot;y&quot;:2.1056043477885913},{&quot;x&quot;:-15.809909325804563,&quot;y&quot;:2.2966567932512922},{&quot;x&quot;:-15.849992619054312,&quot;y&quot;:2.4878318171893543},{&quot;x&quot;:-15.885381095594639,&quot;y&quot;:2.679078627980447},{&quot;x&quot;:-15.916050024579755,&quot;y&quot;:2.8703444004402905},{&quot;x&quot;:-15.941977964823765,&quot;y&quot;:3.0615742969369912},{&quot;x&quot;:-15.963146783480427,&quot;y&quot;:3.252711492428375},{&quot;x&quot;:-15.979541671841423,&quot;y&quot;:3.443697203419924},{&quot;x&quot;:-15.99115115823904,&quot;y&quot;:3.6344707208346927},{&quot;x&quot;:-15.997967118041624,&quot;y&quot;:3.824969446779887},{&quot;x&quot;:-15.999984780732888,&quot;y&quot;:4.015128935188417},{&quot;x&quot;:-15.997202734068733,&quot;y&quot;:4.204882936307177},{&quot;x&quot;:-15.989622925307803,&quot;y&quot;:4.394163444997364},{&quot;x&quot;:-15.97725065951473,&quot;y&quot;:4.582900752805695},{&quot;x&quot;:-15.960094594937564,&quot;y&quot;:4.771023503758891},{&quot;x&quot;:-15.938166735463518,&quot;y&quot;:4.958458753827564},{&quot;x&quot;:-15.911482420159821,&quot;y&quot;:5.145132033999175},{&quot;x&quot;:-15.880060309909043,&quot;y&quot;:5.330967416893558},{&quot;x&quot;:-15.843922371150875,&quot;y&quot;:5.515887586848351},{&quot;x&quot;:-15.803093856744946,&quot;y&quot;:5.699813913395508},{&quot;x&quot;:-15.757603283971838,&quot;y&quot;:5.882666528044161},{&quot;x&quot;:-15.707482409691993,&quot;y&quot;:6.064364404279126},{&quot;x&quot;:-15.652766202684857,&quot;y&quot;:6.244825440678665},{&quot;x&quot;:-15.593492813192988,&quot;y&quot;:6.423966547049398},{&quot;x&quot;:-15.529703539698453,&quot;y&quot;:6.601703733470832},{&quot;x&quot;:-15.461442792961346,&quot;y&quot;:6.777952202136481},{&quot;x&quot;:-15.388758057352616,&quot;y&quot;:6.952626441873498},{&quot;x&quot;:-15.311699849515872,&quot;y&quot;:7.1256403252175735},{&quot;x&quot;:-15.23032167439532,&quot;y&quot;:7.29690720791503},{&quot;x&quot;:-15.144679978669092,&quot;y&quot;:7.466340030719316},{&quot;x&quot;:-15.054834101629872,&quot;y&quot;:7.6338514233446215},{&quot;x&quot;:-14.960846223556759,&quot;y&quot;:7.79935381043502},{&quot;x&quot;:-14.86278131162469,&quot;y&quot;:7.962759519403358},{&quot;x&quot;:-14.76070706339993,&quot;y&quot;:8.123980889990346},{&quot;x&quot;:-14.654693847972212,&quot;y&quot;:8.282930385390468},{&quot;x&quot;:-14.54481464477638,&quot;y&quot;:8.43952070478797},{&quot;x&quot;:-14.43114498015835,&quot;y&quot;:8.593664897142917},{&quot;x&quot;:-14.31376286174221,&quot;y&quot;:8.745276476064275},{&quot;x&quot;:-14.19274871065735,&quot;y&quot;:8.894269535604279},{&quot;x&quot;:-14.068185291686333,&quot;y&quot;:9.040558866805814},{&quot;x&quot;:-13.94015764139616,&quot;y&quot;:9.184060074832201},{&quot;x&quot;:-13.808752994317246,&quot;y&quot;:9.324689696506951},{&quot;x&quot;:-13.674060707236409,&quot;y&quot;:9.462365318089056},{&quot;x&quot;:-13.536172181671615,&quot;y&quot;:9.597005693108146},{&quot;x&quot;:-13.395180784597995,&quot;y&quot;:9.72853086008244},{&quot;x&quot;:-13.251181767496192,&quot;y&quot;:9.856862259941591},{&quot;x&quot;:-13.104272183795537,&quot;y&quot;:9.981922852975746},{&quot;x&quot;:-12.954550804786123,&quot;y&quot;:10.103637235131831},{&quot;x&quot;:-12.802118034074981,&quot;y&quot;:10.221931753477872},{&quot;x&quot;:-12.647075820663163,&quot;y&quot;:10.336734620656324},{&quot;x&quot;:-12.489527570721501,&quot;y&quot;:10.447976028147837},{&quot;x&quot;:-12.329578058144136,&quot;y&quot;:10.55558825816752},{&quot;x&quot;:-12.167333333959967,&quot;y&quot;:10.659505794016832},{&quot;x&quot;:-12.002900634683092,&quot;y&quot;:10.759665428715337},{&quot;x&quot;:-11.836388289684455,&quot;y&quot;:10.856006371738282},{&quot;x&quot;:-11.667905627667583,&quot;y&quot;:10.948470353687535},{&quot;x&quot;:-11.497562882332184,&quot;y&quot;:11.037001728725699},{&quot;x&quot;:-11.32547109731022,&quot;y&quot;:11.121547574605383},{&quot;x&quot;:-11.151742030459367,&quot;y&quot;:11.202057790128348},{&quot;x&quot;:-10.976488057599806,&quot;y&quot;:11.278485189872024},{&quot;x&quot;:-10.799822075780373,&quot;y&quot;:11.35078559602409},{&quot;x&quot;:-10.621857406160776,&quot;y&quot;:11.41891792716914},{&quot;x&quot;:-10.4427076965968,&quot;y&quot;:11.48284428387512},{&quot;x&quot;:-10.262486824015678,&quot;y&quot;:11.54253003093112},{&quot;x&quot;:-10.081308796669102,&quot;y&quot;:11.597943876092168},{&quot;x&quot;:-9.89928765635128,&quot;y&quot;:11.649057945191128},{&quot;x&quot;:-9.716537380669584,&quot;y&quot;:11.695847853482277},{&quot;x&quot;:-9.53317178545529,&quot;y&quot;:11.738292773086032},{&quot;x&quot;:-9.349304427401664,&quot;y&quot;:11.776375496409322},{&quot;x&quot;:-9.165048507016564,&quot;y&quot;:11.810082495421275},{&quot;x&quot;:-8.980516771976344,&quot;y&quot;:11.839403976669397},{&quot;x&quot;:-8.795821420967536,&quot;y&quot;:11.864333931927014},{&quot;x&quot;:-8.611074008102307,&quot;y&quot;:11.8848701843686},{&quot;x&quot;:-8.426385347993154,&quot;y&quot;:11.901014430175572},{&quot;x&quot;:-8.241865421571767,&quot;y&quot;:11.912772275481332},{&quot;x&quot;:-8.05762328273617,&quot;y&quot;:11.920153268570685},{&quot;x&quot;:-7.873766965909729,&quot;y&quot;:11.923170927255134},{&quot;x&quot;:-7.690403394594481,&quot;y&quot;:11.921842761352343},{&quot;x&quot;:-7.50763829100066,&quot;y&quot;:11.916190290204675},{&quot;x&quot;:-7.325576086833038,&quot;y&quot;:11.90623905517863},{&quot;x&quot;:-7.144319835313848,&quot;y&quot;:11.892018627094004},{&quot;x&quot;:-6.963971124520839,&quot;y&quot;:11.873562608538712},{&quot;x&quot;:-6.7846299921178455,&quot;y&quot;:11.850908631032295},{&quot;x&quot;:-6.606394841553984,&quot;y&quot;:11.824098347008553},{&quot;x&quot;:-6.429362359806292,&quot;y&quot;:11.793177416594851},{&quot;x&quot;:-6.25362743673918,&quot;y&quot;:11.758195489173346},{&quot;x&quot;:-6.0792830861526514,&quot;y&quot;:11.71920617971648},{&quot;x&quot;:-5.906420368589671,&quot;y&quot;:11.676267039896839},{&quot;x&quot;:-5.735128315971543,&quot;y&quot;:11.629439523978794},{&quot;x&quot;:-5.565493858128417,&quot;y&quot;:11.578788949507},{&quot;x&quot;:-5.397601751290397,&quot;y&quot;:11.5243844528142},{&quot;x&quot;:-5.231534508602928,&quot;y&quot;:11.466298939378422},{&quot;x&quot;:-5.067372332728324,&quot;y&quot;:11.40460902906708},{&quot;x&quot;:-4.905193050593394,&quot;y&quot;:11.33939499631296},{&quot;x&quot;:-4.745072050341191,&quot;y&quot;:11.270740705274493},{&quot;x&quot;:-4.587082220542944,&quot;y&quot;:11.198733540040108},{&quot;x&quot;:-4.4312938917241596,&quot;y&quot;:11.123464329943694},{&quot;x&quot;:-4.277774780256797,&quot;y&quot;:11.045027270065518},{&quot;x&quot;:-4.126589934667302,&quot;y&quot;:10.963519836999987},{&quot;x&quot;:-3.977801684408105,&quot;y&quot;:10.879042699978749},{&quot;x&quot;:-3.831469591137913,&quot;y&quot;:10.791699627444538},{&quot;x&quot;:-3.6876504025539663,&quot;y&quot;:10.701597389177996},{&quot;x&quot;:-3.5463980088169973,&quot;y&quot;:10.608845654086311},{&quot;x&quot;:-3.407763401607406,&quot;y&quot;:10.513556883769231},{&quot;x&quot;:-3.271794635848712,&quot;y&quot;:10.415846221984182},{&quot;x&quot;:-3.1385367941320044,&quot;y&quot;:10.315831380138633},{&quot;x&quot;:-3.0080319538725853,&quot;y&quot;:10.213632518943816},{&quot;x&quot;:-2.880319157227644,&quot;y&quot;:10.10937212636987},{&quot;x&quot;:-2.7554343838012234,&quot;y&quot;:10.003174892048056},{&quot;x&quot;:-2.6334105261602687,&quot;y&quot;:9.89516757827137},{&quot;x&quot;:-2.514277368182998,&quot;y&quot;:9.785478887750005},{&quot;x&quot;:-2.398061566258297,&quot;y&quot;:9.67423932828327},{&quot;x&quot;:-2.284786633352235,&quot;y&quot;:9.561581074514502},{&quot;x&quot;:-2.1744729259552624,&quot;y&quot;:9.447637826939967},{&quot;x&quot;:-2.067137633921,&quot;y&quot;:9.33254466834735},{&quot;x&quot;:-1.9627947732049758,&quot;y&quot;:9.21643791786338},{&quot;x&quot;:-1.8614551815089857,&quot;y&quot;:9.099454982794247},{&quot;x&quot;:-1.7631265168342183,&quot;y&quot;:8.981734208445882},{&quot;x&quot;:-1.6678132589435728,&quot;y&quot;:8.863414726114783},{&quot;x&quot;:-1.5755167137310488,&quot;y&quot;:8.744636299443016},{&quot;x&quot;:-1.486235020493418,&quot;y&quot;:8.625539169333955},{&quot;x&quot;:-1.3999631620967985,&quot;y&quot;:8.506263897627825},{&quot;x&quot;:-1.3166929780281265,&quot;y&quot;:8.386951209738482},{&quot;x&quot;:-1.2364131803189342,&quot;y&quot;:8.267741836454755},{&quot;x&quot;:-1.1591093723262385,&quot;y&quot;:8.148776355111494},{&quot;x&quot;:-1.0847640703527788,&quot;y&quot;:8.030195030336762},{&quot;x&quot;:-1.0133567280862847,&quot;y&quot;:7.912137654582853},{&quot;x&quot;:-0.9448637638349007,&quot;y&quot;:7.794743388649621},{&quot;x&quot;:-0.8792585905333946,&quot;y&quot;:7.678150602408955},{&quot;x&quot;:-0.8165116484922591,&quot;y&quot;:7.562496715939813},{&quot;x&quot;:-0.7565904408593532,&quot;y&quot;:7.447918041282783},{&quot;x&quot;:-0.6994595717612896,&quot;y&quot;:7.334549625023051},{&quot;x&quot;:-0.6450807870893486,&quot;y&quot;:7.222525091909788},{&quot;x&quot;:-0.593413017892321,&quot;y&quot;:7.111976489719143},{&quot;x&quot;:-0.5444124263363382,&quot;y&quot;:7.003034135566657},{&quot;x&quot;:-0.4980324541894201,&quot;y&quot;:6.8958264638734},{&quot;x&quot;:-0.4542238737862134,&quot;y&quot;:6.790479876188232},{&quot;x&quot;:-0.41293484142614123,&quot;y&quot;:6.687118593066483},{&quot;x&quot;:-0.37411095315600607,&quot;y&quot;:6.585864508202852},{&quot;x&quot;:-0.33769530288592764,&quot;y&quot;:6.486837045013613},{&quot;x&quot;:-0.3036285427854036,&quot;y&quot;:6.390153015860221},{&quot;x&quot;:-0.2718489459042205,&quot;y&quot;:6.29592648410309},{&quot;x&quot;:-0.2422924709609385,&quot;y&quot;:6.204268629170736},{&quot;x&quot;:-0.21489282923972242,&quot;y&quot;:6.115287614825718},{&quot;x&quot;:-0.18958155353438902,&quot;y&quot;:6.029088460804572},{&quot;x&quot;:-0.1662880690766967,&quot;y&quot;:5.945772918004745},{&quot;x&quot;:-0.14493976638411676,&quot;y&quot;:5.865439347386774},{&quot;x&quot;:-0.12546207596059317,&quot;y&quot;:5.788182602755194},{&quot;x&quot;:-0.10777854478212996,&quot;y&quot;:5.714093917576522},{&quot;x&quot;:-0.09181091449743772,&quot;y&quot;:5.643260795987361},{&quot;x&quot;:-0.07747920127232218,&quot;y&quot;:5.575766908140126},{&quot;x&quot;:-0.06470177720502002,&quot;y&quot;:5.511691990028085},{&quot;x&quot;:-0.05339545323826981,&quot;y&quot;:5.451111747925488},{&quot;x&quot;:-0.043475563492557046,&quot;y&quot;:5.394097767572395},{&quot;x&quot;:-0.0348560509436926,&quot;y&quot;:5.3407174282274035},{&quot;x&quot;:-0.027449554366672412,&quot;y&quot;:5.291033821704959},{&quot;x&quot;:-0.02116749646662432,&quot;y&quot;:5.245105676507294},{&quot;x&quot;:-0.01592017311657953,&quot;y&quot;:5.2029872871540315},{&quot;x&quot;:-0.011616843620808079,&quot;y&quot;:5.164728448805601},{&quot;x&quot;:-0.008165821921533896,&quot;y&quot;:5.130374397269418},{&quot;x&quot;:-0.005474568665994886,&quot;y&quot;:5.099965754470382},{&quot;x&quot;:-0.0034497840500384764,&quot;y&quot;:5.07353847946005},{&quot;x&quot;:-0.0019975013537430596,&quot;y&quot;:5.051123825031108},{&quot;x&quot;:-0.0010231810839324738,&quot;y&quot;:5.032748299996257},{&quot;x&quot;:-4.3180563790373044E-4,&quot;y&quot;:5.018433637182963},{&quot;x&quot;:-1.2797440221855563E-4,&quot;y&quot;:5.008196767187592},{&quot;x&quot;:-1.5999200017333114E-5,&quot;y&quot;:5.002049797924806},{&quot;x&quot;:0.0,&quot;y&quot;:5.0},{&quot;x&quot;:1.5999200017333114E-5,&quot;y&quot;:5.002049797924806},{&quot;x&quot;:1.2797440221855563E-4,&quot;y&quot;:5.008196767187592},{&quot;x&quot;:4.3180563790373044E-4,&quot;y&quot;:5.018433637182963},{&quot;x&quot;:0.0010231810839324738,&quot;y&quot;:5.032748299996257},{&quot;x&quot;:0.0019975013537430596,&quot;y&quot;:5.051123825031108},{&quot;x&quot;:0.0034497840500384764,&quot;y&quot;:5.07353847946005},{&quot;x&quot;:0.005474568665994886,&quot;y&quot;:5.099965754470382},{&quot;x&quot;:0.008165821921533896,&quot;y&quot;:5.130374397269418},{&quot;x&quot;:0.011616843620808079,&quot;y&quot;:5.164728448805601},{&quot;x&quot;:0.01592017311657953,&quot;y&quot;:5.2029872871540315},{&quot;x&quot;:0.02116749646662432,&quot;y&quot;:5.245105676507294},{&quot;x&quot;:0.027449554366672412,&quot;y&quot;:5.291033821704959},{&quot;x&quot;:0.0348560509436926,&quot;y&quot;:5.3407174282274035},{&quot;x&quot;:0.043475563492557046,&quot;y&quot;:5.394097767572395},{&quot;x&quot;:0.05339545323826981,&quot;y&quot;:5.451111747925488},{&quot;x&quot;:0.06470177720502002,&quot;y&quot;:5.511691990028085},{&quot;x&quot;:0.07747920127232218,&quot;y&quot;:5.575766908140126},{&quot;x&quot;:0.09181091449743772,&quot;y&quot;:5.643260795987361},{&quot;x&quot;:0.10777854478212996,&quot;y&quot;:5.714093917576522},{&quot;x&quot;:0.12546207596059317,&quot;y&quot;:5.788182602755194},{&quot;x&quot;:0.14493976638411676,&quot;y&quot;:5.865439347386774},{&quot;x&quot;:0.1662880690766967,&quot;y&quot;:5.945772918004745},{&quot;x&quot;:0.18958155353438902,&quot;y&quot;:6.029088460804572},{&quot;x&quot;:0.21489282923972242,&quot;y&quot;:6.115287614825718},{&quot;x&quot;:0.2422924709609385,&quot;y&quot;:6.204268629170736},{&quot;x&quot;:0.2718489459042205,&quot;y&quot;:6.29592648410309},{&quot;x&quot;:0.3036285427854036,&quot;y&quot;:6.390153015860221},{&quot;x&quot;:0.33769530288592764,&quot;y&quot;:6.486837045013613},{&quot;x&quot;:0.37411095315600607,&quot;y&quot;:6.585864508202852},{&quot;x&quot;:0.41293484142614123,&quot;y&quot;:6.687118593066483},{&quot;x&quot;:0.4542238737862134,&quot;y&quot;:6.790479876188232},{&quot;x&quot;:0.4980324541894201,&quot;y&quot;:6.8958264638734},{&quot;x&quot;:0.5444124263363382,&quot;y&quot;:7.003034135566657},{&quot;x&quot;:0.593413017892321,&quot;y&quot;:7.111976489719143},{&quot;x&quot;:0.6450807870893486,&quot;y&quot;:7.222525091909788},{&quot;x&quot;:0.6994595717612896,&quot;y&quot;:7.334549625023051},{&quot;x&quot;:0.7565904408593532,&quot;y&quot;:7.447918041282783},{&quot;x&quot;:0.8165116484922591,&quot;y&quot;:7.562496715939813},{&quot;x&quot;:0.8792585905333946,&quot;y&quot;:7.678150602408955},{&quot;x&quot;:0.9448637638349007,&quot;y&quot;:7.794743388649621},{&quot;x&quot;:1.0133567280862847,&quot;y&quot;:7.912137654582853},{&quot;x&quot;:1.0847640703527788,&quot;y&quot;:8.030195030336762},{&quot;x&quot;:1.1591093723262385,&quot;y&quot;:8.148776355111494},{&quot;x&quot;:1.2364131803189342,&quot;y&quot;:8.267741836454755},{&quot;x&quot;:1.3166929780281265,&quot;y&quot;:8.386951209738482},{&quot;x&quot;:1.3999631620967985,&quot;y&quot;:8.506263897627825},{&quot;x&quot;:1.486235020493418,&quot;y&quot;:8.625539169333955},{&quot;x&quot;:1.5755167137310488,&quot;y&quot;:8.744636299443016},{&quot;x&quot;:1.6678132589435728,&quot;y&quot;:8.863414726114783},{&quot;x&quot;:1.7631265168342183,&quot;y&quot;:8.981734208445882},{&quot;x&quot;:1.8614551815089857,&quot;y&quot;:9.099454982794247},{&quot;x&quot;:1.9627947732049758,&quot;y&quot;:9.21643791786338},{&quot;x&quot;:2.067137633921,&quot;y&quot;:9.33254466834735},{&quot;x&quot;:2.1744729259552624,&quot;y&quot;:9.447637826939967},{&quot;x&quot;:2.284786633352235,&quot;y&quot;:9.561581074514502},{&quot;x&quot;:2.398061566258297,&quot;y&quot;:9.67423932828327},{&quot;x&quot;:2.514277368182998,&quot;y&quot;:9.785478887750005},{&quot;x&quot;:2.6334105261602687,&quot;y&quot;:9.89516757827137},{&quot;x&quot;:2.7554343838012234,&quot;y&quot;:10.003174892048056},{&quot;x&quot;:2.880319157227644,&quot;y&quot;:10.10937212636987},{&quot;x&quot;:3.0080319538725853,&quot;y&quot;:10.213632518943816},{&quot;x&quot;:3.1385367941320044,&quot;y&quot;:10.315831380138633},{&quot;x&quot;:3.271794635848712,&quot;y&quot;:10.415846221984182},{&quot;x&quot;:3.407763401607406,&quot;y&quot;:10.513556883769231},{&quot;x&quot;:3.5463980088169973,&quot;y&quot;:10.608845654086311},{&quot;x&quot;:3.6876504025539663,&quot;y&quot;:10.701597389177996},{&quot;x&quot;:3.831469591137913,&quot;y&quot;:10.791699627444538},{&quot;x&quot;:3.977801684408105,&quot;y&quot;:10.879042699978749},{&quot;x&quot;:4.126589934667302,&quot;y&quot;:10.963519836999987},{&quot;x&quot;:4.277774780256797,&quot;y&quot;:11.045027270065518},{&quot;x&quot;:4.4312938917241596,&quot;y&quot;:11.123464329943694},{&quot;x&quot;:4.587082220542944,&quot;y&quot;:11.198733540040108},{&quot;x&quot;:4.745072050341191,&quot;y&quot;:11.270740705274493},{&quot;x&quot;:4.905193050593394,&quot;y&quot;:11.33939499631296},{&quot;x&quot;:5.067372332728324,&quot;y&quot;:11.40460902906708},{&quot;x&quot;:5.231534508602928,&quot;y&quot;:11.466298939378422},{&quot;x&quot;:5.397601751290397,&quot;y&quot;:11.5243844528142},{&quot;x&quot;:5.565493858128417,&quot;y&quot;:11.578788949507},{&quot;x&quot;:5.735128315971543,&quot;y&quot;:11.629439523978794},{&quot;x&quot;:5.906420368589671,&quot;y&quot;:11.676267039896839},{&quot;x&quot;:6.0792830861526514,&quot;y&quot;:11.71920617971648},{&quot;x&quot;:6.25362743673918,&quot;y&quot;:11.758195489173346},{&quot;x&quot;:6.429362359806292,&quot;y&quot;:11.793177416594851},{&quot;x&quot;:6.606394841553984,&quot;y&quot;:11.824098347008553},{&quot;x&quot;:6.7846299921178455,&quot;y&quot;:11.850908631032295},{&quot;x&quot;:6.963971124520839,&quot;y&quot;:11.873562608538712},{&quot;x&quot;:7.144319835313848,&quot;y&quot;:11.892018627094004},{&quot;x&quot;:7.325576086833038,&quot;y&quot;:11.90623905517863},{&quot;x&quot;:7.50763829100066,&quot;y&quot;:11.916190290204675},{&quot;x&quot;:7.690403394594481,&quot;y&quot;:11.921842761352343},{&quot;x&quot;:7.873766965909729,&quot;y&quot;:11.923170927255134},{&quot;x&quot;:8.05762328273617,&quot;y&quot;:11.920153268570685},{&quot;x&quot;:8.241865421571767,&quot;y&quot;:11.912772275481332},{&quot;x&quot;:8.426385347993154,&quot;y&quot;:11.901014430175572},{&quot;x&quot;:8.611074008102307,&quot;y&quot;:11.8848701843686},{&quot;x&quot;:8.795821420967536,&quot;y&quot;:11.864333931927014},{&quot;x&quot;:8.980516771976344,&quot;y&quot;:11.839403976669397},{&quot;x&quot;:9.165048507016564,&quot;y&quot;:11.810082495421275},{&quot;x&quot;:9.349304427401664,&quot;y&quot;:11.776375496409322},{&quot;x&quot;:9.53317178545529,&quot;y&quot;:11.738292773086032},{&quot;x&quot;:9.716537380669584,&quot;y&quot;:11.695847853482277},{&quot;x&quot;:9.89928765635128,&quot;y&quot;:11.649057945191128},{&quot;x&quot;:10.081308796669102,&quot;y&quot;:11.597943876092168},{&quot;x&quot;:10.262486824015678,&quot;y&quot;:11.54253003093112},{&quot;x&quot;:10.4427076965968,&quot;y&quot;:11.48284428387512},{&quot;x&quot;:10.621857406160776,&quot;y&quot;:11.41891792716914},{&quot;x&quot;:10.799822075780373,&quot;y&quot;:11.35078559602409},{&quot;x&quot;:10.976488057599806,&quot;y&quot;:11.278485189872024},{&quot;x&quot;:11.151742030459367,&quot;y&quot;:11.202057790128348},{&quot;x&quot;:11.32547109731022,&quot;y&quot;:11.121547574605383},{&quot;x&quot;:11.497562882332184,&quot;y&quot;:11.037001728725699},{&quot;x&quot;:11.667905627667583,&quot;y&quot;:10.948470353687535},{&quot;x&quot;:11.836388289684455,&quot;y&quot;:10.856006371738282},{&quot;x&quot;:12.002900634683092,&quot;y&quot;:10.759665428715337},{&quot;x&quot;:12.167333333959967,&quot;y&quot;:10.659505794016832},{&quot;x&quot;:12.329578058144136,&quot;y&quot;:10.55558825816752},{&quot;x&quot;:12.489527570721501,&quot;y&quot;:10.447976028147837},{&quot;x&quot;:12.647075820663163,&quot;y&quot;:10.336734620656324},{&quot;x&quot;:12.802118034074981,&quot;y&quot;:10.221931753477872},{&quot;x&quot;:12.954550804786123,&quot;y&quot;:10.103637235131831},{&quot;x&quot;:13.104272183795537,&quot;y&quot;:9.981922852975746},{&quot;x&quot;:13.251181767496192,&quot;y&quot;:9.856862259941591},{&quot;x&quot;:13.395180784597995,&quot;y&quot;:9.72853086008244},{&quot;x&quot;:13.536172181671615,&quot;y&quot;:9.597005693108146},{&quot;x&quot;:13.674060707236409,&quot;y&quot;:9.462365318089056},{&quot;x&quot;:13.808752994317246,&quot;y&quot;:9.324689696506951},{&quot;x&quot;:13.94015764139616,&quot;y&quot;:9.184060074832201},{&quot;x&quot;:14.068185291686333,&quot;y&quot;:9.040558866805814},{&quot;x&quot;:14.19274871065735,&quot;y&quot;:8.894269535604279},{&quot;x&quot;:14.31376286174221,&quot;y&quot;:8.745276476064275},{&quot;x&quot;:14.43114498015835,&quot;y&quot;:8.593664897142917},{&quot;x&quot;:14.54481464477638,&quot;y&quot;:8.43952070478797},{&quot;x&quot;:14.654693847972212,&quot;y&quot;:8.282930385390468},{&quot;x&quot;:14.76070706339993,&quot;y&quot;:8.123980889990346},{&quot;x&quot;:14.86278131162469,&quot;y&quot;:7.962759519403358},{&quot;x&quot;:14.960846223556759,&quot;y&quot;:7.79935381043502},{&quot;x&quot;:15.054834101629872,&quot;y&quot;:7.6338514233446215},{&quot;x&quot;:15.144679978669092,&quot;y&quot;:7.466340030719316},{&quot;x&quot;:15.23032167439532,&quot;y&quot;:7.29690720791503},{&quot;x&quot;:15.311699849515872,&quot;y&quot;:7.1256403252175735},{&quot;x&quot;:15.388758057352616,&quot;y&quot;:6.952626441873498},{&quot;x&quot;:15.461442792961346,&quot;y&quot;:6.777952202136481},{&quot;x&quot;:15.529703539698453,&quot;y&quot;:6.601703733470832},{&quot;x&quot;:15.593492813192988,&quot;y&quot;:6.423966547049398},{&quot;x&quot;:15.652766202684857,&quot;y&quot;:6.244825440678665},{&quot;x&quot;:15.707482409691993,&quot;y&quot;:6.064364404279126},{&quot;x&quot;:15.757603283971838,&quot;y&quot;:5.882666528044161},{&quot;x&quot;:15.803093856744946,&quot;y&quot;:5.699813913395508},{&quot;x&quot;:15.843922371150875,&quot;y&quot;:5.515887586848351},{&quot;x&quot;:15.880060309909043,&quot;y&quot;:5.330967416893558},{&quot;x&quot;:15.911482420159821,&quot;y&quot;:5.145132033999175},{&quot;x&quot;:15.938166735463518,&quot;y&quot;:4.958458753827564},{&quot;x&quot;:15.960094594937564,&quot;y&quot;:4.771023503758891},{&quot;x&quot;:15.97725065951473,&quot;y&quot;:4.582900752805695},{&quot;x&quot;:15.989622925307803,&quot;y&quot;:4.394163444997364},{&quot;x&quot;:15.997202734068733,&quot;y&quot;:4.204882936307177},{&quot;x&quot;:15.999984780732888,&quot;y&quot;:4.015128935188417},{&quot;x&quot;:15.997967118041624,&quot;y&quot;:3.824969446779887},{&quot;x&quot;:15.99115115823904,&quot;y&quot;:3.6344707208346927},{&quot;x&quot;:15.979541671841423,&quot;y&quot;:3.443697203419924},{&quot;x&quot;:15.963146783480427,&quot;y&quot;:3.252711492428375},{&quot;x&quot;:15.941977964823765,&quot;y&quot;:3.0615742969369912},{&quot;x&quot;:15.916050024579755,&quot;y&quot;:2.8703444004402905},{&quot;x&quot;:15.885381095594639,&quot;y&quot;:2.679078627980447},{&quot;x&quot;:15.849992619054312,&quot;y&quot;:2.4878318171893543},{&quot;x&quot;:15.809909325804563,&quot;y&quot;:2.2966567932512922},{&quot;x&quot;:15.765159214806635,&quot;y&quot;:2.1056043477885913},{&quot;x&quot;:15.715773528747347,&quot;y&quot;:1.9147232216660361},{&quot;x&quot;:15.661786726825737,&quot;y&quot;:1.7240600917034774},{&quot;x&quot;:15.60323645474055,&quot;y&quot;:1.5336595612796988},{&quot;x&quot;:15.540163511905524,&quot;y&quot;:1.3435641548042923},{&quot;x&quot;:15.472611815921837,&quot;y&quot;:1.1538143160281038},{&quot;x&quot;:15.400628364339616,&quot;y&quot;:0.9644484101565911},{&quot;x&quot;:15.32426319374273,&quot;y&quot;:0.7755027297244099},{&quot;x&quot;:15.243569336193612,&quot;y&quot;:0.5870115041835983},{&quot;x&quot;:15.158602773077089,&quot;y&quot;:0.3990069131517864},{&quot;x&quot;:15.06942238638469,&quot;y&quot;:0.21151910326119605},{&quot;x&quot;:14.976089907483013,&quot;y&quot;:0.024576208543522826},{&quot;x&quot;:14.878669863412155,&quot;y&quot;:-0.16179562571969286},{&quot;x&quot;:14.77722952076229,&quot;y&quot;:-0.347572215756921},{&quot;x&quot;:14.671838827178767,&quot;y&quot;:-0.5327313087576777},{&quot;x&quot;:14.5625703505481,&quot;y&quot;:-0.7172525491007071},{&quot;x&quot;:14.449499215919415,&quot;y&quot;:-0.9011174414501536},{&quot;x&quot;:14.332703040217883,&quot;y&quot;:-1.0843093108152837},{&quot;x&quot;:14.212261864808646,&quot;y&quot;:-1.2668132596738397},{&quot;x&quot;:14.088258085971704,&quot;y&quot;:-1.4486161222634215},{&quot;x&quot;:13.960776383350069,&quot;y&quot;:-1.6297064161494719},{&quot;x&quot;:13.829903646435318,&quot;y&quot;:-1.8100742911823389},{&quot;x&quot;:13.695728899156434,&quot;y&quot;:-1.989711475959698},{&quot;x&quot;:13.558343222639524,&quot;y&quot;:-2.1686112219140337},{&quot;x&quot;:13.417839676207647,&quot;y&quot;:-2.3467682451483345},{&quot;x&quot;:13.274313216691509,&quot;y&quot;:-2.524178666146127},{&quot;x&quot;:13.127860616123415,&quot;y&quot;:-2.700839947484909},{&quot;x&quot;:12.978580377888127,&quot;y&quot;:-2.8767508296846573},{&quot;x&quot;:12.82657265140587,&quot;y&quot;:-3.0519112653255047},{&quot;x&quot;:12.671939145423835,&quot;y&quot;:-3.226322351570849},{&quot;x&quot;:12.514783039993953,&quot;y&quot;:-3.3999862612340825},{&quot;x&quot;:12.355208897215736,&quot;y&quot;:-3.572906172528851},{&quot;x&quot;:12.193322570824213,&quot;y&quot;:-3.745086197644161},{&quot;x&quot;:12.029231114703885,&quot;y&quot;:-3.9165313102869104},{&quot;x&quot;:11.863042690410714,&quot;y&quot;:-4.087247272335324},{&quot;x&quot;:11.694866473784963,&quot;y&quot;:-4.257240559747585},{&quot;x&quot;:11.524812560738543,&quot;y&quot;:-4.426518287870241},{&quot;x&quot;:11.352991872301171,&quot;y&quot;:-4.5950881362914915},{&quot;x&quot;:11.179516059010576,&quot;y&quot;:-4.762958273384024},{&quot;x&quot;:11.00449740473208,&quot;y&quot;:-4.930137280682281},{&quot;x&quot;:10.828048729993991,&quot;y&quot;:-5.096634077238039},{&quot;x&quot;:10.650283294925112,&quot;y&quot;:-5.262457844097883},{&quot;x&quot;:10.471314701881441,&quot;y&quot;:-5.4276179490447305},{&quot;x&quot;:10.291256797849083,&quot;y&quot;:-5.592123871744795},{&quot;x&quot;:10.110223576710947,&quot;y&quot;:-5.755985129439374},{&quot;x&quot;:9.928329081464437,&quot;y&quot;:-5.919211203319732},{&quot;x&quot;:9.745687306477949,&quot;y&quot;:-6.081811465720848},{&quot;x&quot;:9.562412099873356,&quot;y&quot;:-6.243795108268167},{&quot;x&quot;:9.378617066122144,&quot;y&quot;:-6.405171071108659},{&quot;x&quot;:9.194415468942019,&quot;y&quot;:-6.565947973355314},{&quot;x&quot;:9.009920134581165,&quot;y&quot;:-6.72613404487104},{&quot;x&quot;:8.825243355576394,&quot;y&quot;:-6.88573705951525},{&quot;x&quot;:8.640496795071583,&quot;y&quot;:-7.044764269972917},{&quot;x&quot;:8.455791391781567,&quot;y&quot;:-7.203222344282802},{&quot;x&quot;:8.271237265686915,&quot;y&quot;:-7.361117304177602},{&quot;x&quot;:8.0869436245435,&quot;y&quot;:-7.518454465345448},{&quot;x&quot;:7.903018671290735,&quot;y&quot;:-7.675238379717722},{&quot;x&quot;:7.719569512441047,&quot;y&quot;:-7.831472779884642},{&quot;x&quot;:7.536702067532583,&quot;y&quot;:-7.987160525735189},{&quot;x&quot;:7.3545209797259155,&quot;y&quot;:-8.142303553414102},{&quot;x&quot;:7.173129527624754,&quot;y&quot;:-8.2969028266837},{&quot;x&quot;:6.992629538399342,&quot;y&quot;:-8.450958290773702},{&quot;x&quot;:6.813121302290088,&quot;y&quot;:-8.604468828797629},{&quot;x&quot;:6.634703488567845,&quot;y&quot;:-8.757432220808989},{&quot;x&quot;:6.457473063025758,&quot;y&quot;:-8.909845105565852},{&quot;x&quot;:6.2815252070763945,&quot;y&quot;:-9.061702945066857},{&quot;x&quot;:6.10695323852619,&quot;y&quot;:-9.212999991916842},{&quot;x&quot;:5.9338485340980665,&quot;y&quot;:-9.363729259574598},{&quot;x&quot;:5.762300453771076,&quot;y&quot;:-9.513882495530128},{&quot;x&quot;:5.592396267004685,&quot;y&quot;:-9.663450157453095},{&quot;x&quot;:5.424221080913279,&quot;y&quot;:-9.812421392348872},{&quot;x&quot;:5.257857770455022,&quot;y&quot;:-9.960784018752744},{&quot;x&quot;:5.093386910697007,&quot;y&quot;:-10.10852451198751},{&quot;x&quot;:4.9308867112172,&quot;y&quot;:-10.255627992503806},{&quot;x&quot;:4.770432952701295,&quot;y&quot;:-10.402078217317158},{&quot;x&quot;:4.612098925791067,&quot;y&quot;:-10.547857574549695},{&quot;x&quot;:4.455955372238308,&quot;y&quot;:-10.692947081079307},{&quot;x&quot;:4.302070428416844,&quot;y&quot;:-10.837326383292863},{&quot;x&quot;:4.150509571242513,&quot;y&quot;:-10.980973760934997},{&quot;x&quot;:4.001335566549268,&quot;y&quot;:-11.123866134037883},{&quot;x&quot;:3.8546084199669144,&quot;y&quot;:-11.265979072912396},{&quot;x&quot;:3.7103853303441836,&quot;y&quot;:-11.407286811175013},{&quot;x&quot;:3.5687206457580674,&quot;y&quot;:-11.547762261779914},{&quot;x&quot;:3.4296658221485217,&quot;y&quot;:-11.68737703601987},{&quot;x&quot;:3.2932693846147476,&quot;y&quot;:-11.82610146545468},{&quot;x&quot;:3.1595768914073137,&quot;y&quot;:-11.963904626720305},{&quot;x&quot;:3.028630900647705,&quot;y&quot;:-12.10075436916702},{&quot;x&quot;:2.9004709398043786,&quot;y&quot;:-12.236617345269849},{&quot;x&quot;:2.7751334779522043,&quot;y&quot;:-12.371459043749478},{&quot;x&quot;:2.6526519008392753,&quot;y&quot;:-12.505243825337368},{&quot;x&quot;:2.533056488782911,&quot;y&quot;:-12.63793496111383},{&quot;x&quot;:2.4163743974137906,&quot;y&quot;:-12.769494673343647},{&quot;x&quot;:2.302629641284911,&quot;y&quot;:-12.899884178729065},{&quot;x&quot;:2.19184308035915,&quot;y&quot;:-13.029063733996269},{&quot;x&quot;:2.0840324093869373,&quot;y&quot;:-13.156992683726822},{&quot;x&quot;:1.9792121501826403,&quot;y&quot;:-13.283629510342232},{&quot;x&quot;:1.8773936468059262,&quot;y&quot;:-13.408931886145597},{&quot;x&quot;:1.778585063651482,&quot;y&quot;:-13.532856727321137},{&quot;x&quot;:1.682791386448112,&quot;y&quot;:-13.655360249788698},{&quot;x&quot;:1.5900144261653506,&quot;y&quot;:-13.776398026807538},{&quot;x&quot;:1.500252825823357,&quot;y&quot;:-13.895925048220269},{&quot;x&quot;:1.4135020701990062,&quot;y&quot;:-14.013895781225536},{&quot;x&quot;:1.3297544984187009,&quot;y&quot;:-14.130264232564981},{&quot;x&quot;:1.2489993194256128,&quot;y&quot;:-14.244984012008048},{&quot;x&quot;:1.1712226303066815,&quot;y&quot;:-14.358008397015727},{&quot;x&quot;:1.0964074374619113,&quot;y&quot;:-14.469290398462617},{&quot;x&quot;:1.0245336805961562,&quot;y&quot;:-14.578782827294797},{&quot;x&quot;:0.9555782595108235,&quot;y&quot;:-14.686438361999596},{&quot;x&quot;:0.8895150636706192,&quot;y&quot;:-14.792209616761932},{&quot;x&quot;:0.8263150045177469,&quot;y&quot;:-14.896049210181053},{&quot;x&quot;:0.7659460505036814,&quot;y&quot;:-14.997909834420364},{&quot;x&quot;:0.7083732648060654,&quot;y&quot;:-15.097744324662706},{&quot;x&quot;:0.653558845695882,&quot;y&quot;:-15.195505728742893},{&quot;x&quot;:0.6014621695177373,&quot;y&quot;:-15.291147376829185},{&quot;x&quot;:0.5520398362436082,&quot;y&quot;:-15.384622951025493},{&quot;x&quot;:0.5052457175582339,&quot;y&quot;:-15.475886554766372},{&quot;x&quot;:0.46103100743190056,&quot;y&quot;:-15.564892781877404},{&quot;x&quot;:0.41934427513427186,&quot;y&quot;:-15.651596785174224},{&quot;x&quot;:0.3801315206405825,&quot;y&quot;:-15.735954344474662},{&quot;x&quot;:0.34333623237948085,&quot;y&quot;:-15.817921933899296},{&quot;x&quot;:0.3088994472695784,&quot;y&quot;:-15.897456788337571},{&quot;x&quot;:0.2767598129898154,&quot;y&quot;:-15.974516968957737},{&quot;x&quot;:0.24685365242662968,&quot;y&quot;:-16.04906142764135},{&quot;x&quot;:0.21911503023905704,&quot;y&quot;:-16.12105007022445},{&quot;x&quot;:0.19347582148088532,&quot;y&quot;:-16.19044381843033},{&quot;x&quot;:0.16986578221722445,&quot;y&quot;:-16.25720467038103},{&quot;x&quot;:0.1482126220709681,&quot;y&quot;:-16.32129575957734},{&quot;x&quot;:0.12844207863296622,&quot;y&quot;:-16.38268141224},{&quot;x&quot;:0.11047799366797405,&quot;y&quot;:-16.441327202907953},{&quot;x&quot;:0.09424239104689118,&quot;y&quot;:-16.497200008192383},{&quot;x&quot;:0.07965555633418872,&quot;y&quot;:-16.550268058589143},{&quot;x&quot;:0.06663611795798619,&quot;y&quot;:-16.60050098825533},{&quot;x&quot;:0.05510112988876378,&quot;y&quot;:-16.647869882659734},{&quot;x&quot;:0.044966155751380375,&quot;y&quot;:-16.692347324020762},{&quot;x&quot;:0.03614535429373789,&quot;y&quot;:-16.73390743444939},{&quot;x&quot;:0.028551566134240997,&quot;y&quot;:-16.772525916718998},{&quot;x&quot;:0.02209640170902985,&quot;y&quot;:-16.808180092588184},{&quot;x&quot;:0.01669033033888591,&quot;y&quot;:-16.84084893860716},{&quot;x&quot;:0.012242770334712043,&quot;y&quot;:-16.87051311934288},{&quot;x&quot;:0.008662180059536085,&quot;y&quot;:-16.897155017962813},{&quot;x&quot;:0.005856149864141234,&quot;y&quot;:-16.920758764121906},{&quot;x&quot;:0.0037314948126257923,&quot;y&quot;:-16.941310259102387},{&quot;x&quot;:0.002194348113494316,&quot;y&quot;:-16.958797198160877},{&quot;x&quot;:0.001150255171237311,&quot;y&quot;:-16.973209090042378},{&quot;x&quot;:5.042681728047771E-4,&quot;y&quot;:-16.984537273625897},{&quot;x&quot;:1.6104112289149345E-4,&quot;y&quot;:-16.992774931671576},{&quot;x&quot;:2.492524155144247E-5,&quot;y&quot;:-16.997917101644497},{&quot;x&quot;:6.463732966847141E-8,&quot;y&quot;:-16.999960683595546}]},&quot;$schema&quot;:&quot;https://vega.github.io/schema/vega-lite/v4.0.0-beta.12.json&quot;,&quot;encoding&quot;:{&quot;x&quot;:{&quot;type&quot;:&quot;quantitative&quot;,&quot;field&quot;:&quot;x&quot;},&quot;y&quot;:{&quot;type&quot;:&quot;quantitative&quot;,&quot;field&quot;:&quot;y&quot;}},&quot;mark&quot;:&quot;point&quot;};\n",
       "  vegaEmbed('#vega-lite', spec);\n",
       "&lt;/script&gt;\n",
       "&lt;/body&gt;\n",
       "&lt;/html&gt;\n",
       "    \"></iframe>\n",
       "  <script>\n",
       "    (function() {\n",
       "      function resizeIFrame(el, k) {\n",
       "        var height = el.contentWindow.document.body.scrollHeight || '400'; // Fallback in case of no scroll height\n",
       "        el.style.height = height + 'px';\n",
       "        if (k <= 10) { setTimeout(function() { resizeIFrame(el, k+1) }, 1000 + (k * 250)) };\n",
       "      }\n",
       "      resizeIFrame(document.querySelector('#41364e12-2df8-464e-9680-2d6eeb9c43e1'), 1);\n",
       "    })(); // IIFE\n",
       "  </script>\n",
       "    "
      ]
     },
     "metadata": {},
     "output_type": "display_data"
    }
   ],
   "source": [
    "show(plot(heart.toArray))"
   ]
  },
  {
   "cell_type": "code",
   "execution_count": 3,
   "metadata": {},
   "outputs": [
    {
     "data": {
      "text/plain": [
       "\u001b[36mmodel\u001b[39m: \u001b[32mRandomForest\u001b[39m = smile.classification.RandomForest@4f7f6eef"
      ]
     },
     "execution_count": 3,
     "metadata": {},
     "output_type": "execute_result"
    }
   ],
   "source": [
    "val model = randomForest(\"class\"~, iris)"
   ]
  },
  {
   "cell_type": "code",
   "execution_count": 4,
   "metadata": {},
   "outputs": [
    {
     "data": {
      "text/plain": [
       "\u001b[36mres3\u001b[39m: \u001b[32mArray\u001b[39m[\u001b[32mInt\u001b[39m] = \u001b[33mArray\u001b[39m(\n",
       "  \u001b[32m0\u001b[39m,\n",
       "  \u001b[32m0\u001b[39m,\n",
       "  \u001b[32m0\u001b[39m,\n",
       "  \u001b[32m0\u001b[39m,\n",
       "  \u001b[32m0\u001b[39m,\n",
       "  \u001b[32m0\u001b[39m,\n",
       "  \u001b[32m0\u001b[39m,\n",
       "  \u001b[32m0\u001b[39m,\n",
       "  \u001b[32m0\u001b[39m,\n",
       "  \u001b[32m0\u001b[39m,\n",
       "  \u001b[32m0\u001b[39m,\n",
       "  \u001b[32m0\u001b[39m,\n",
       "  \u001b[32m0\u001b[39m,\n",
       "  \u001b[32m0\u001b[39m,\n",
       "  \u001b[32m0\u001b[39m,\n",
       "  \u001b[32m0\u001b[39m,\n",
       "  \u001b[32m0\u001b[39m,\n",
       "  \u001b[32m0\u001b[39m,\n",
       "  \u001b[32m0\u001b[39m,\n",
       "  \u001b[32m0\u001b[39m,\n",
       "  \u001b[32m0\u001b[39m,\n",
       "  \u001b[32m0\u001b[39m,\n",
       "  \u001b[32m0\u001b[39m,\n",
       "  \u001b[32m0\u001b[39m,\n",
       "  \u001b[32m0\u001b[39m,\n",
       "  \u001b[32m0\u001b[39m,\n",
       "  \u001b[32m0\u001b[39m,\n",
       "  \u001b[32m0\u001b[39m,\n",
       "  \u001b[32m0\u001b[39m,\n",
       "  \u001b[32m0\u001b[39m,\n",
       "  \u001b[32m0\u001b[39m,\n",
       "  \u001b[32m0\u001b[39m,\n",
       "  \u001b[32m0\u001b[39m,\n",
       "  \u001b[32m0\u001b[39m,\n",
       "  \u001b[32m0\u001b[39m,\n",
       "  \u001b[32m0\u001b[39m,\n",
       "  \u001b[32m0\u001b[39m,\n",
       "  \u001b[32m0\u001b[39m,\n",
       "..."
      ]
     },
     "execution_count": 4,
     "metadata": {},
     "output_type": "execute_result"
    }
   ],
   "source": [
    "model.predict(iris)"
   ]
  },
  {
   "cell_type": "code",
   "execution_count": 6,
   "metadata": {},
   "outputs": [
    {
     "data": {
      "text/plain": [
       "\u001b[36mmat\u001b[39m: \u001b[32mDenseMatrix\u001b[39m =   0.0000    0.0000    0.0000    0.0000    0.0000    0.0000    0.0000  ...\n",
       "  0.0000    0.0000    0.0000    0.0000    0.0000    0.0000    0.0000  ...\n",
       "  0.0000    0.0000    0.0000    0.0000    0.0000    0.0000    0.0000  ...\n",
       "  0.0000    0.0000    0.0000    0.0000    0.0000    0.0000    0.0000  ...\n",
       "  0.0000    0.0000    0.0000    0.0000    0.0000    0.0000    0.0000  ...\n",
       "  0.0000    0.0000    0.0000    0.0000    0.0000    0.0000    0.0000  ...\n",
       "  0.0000    0.0000    0.0000    0.0000    0.0000    0.0000    0.0000  ...\n",
       "  ...\n"
      ]
     },
     "execution_count": 6,
     "metadata": {},
     "output_type": "execute_result"
    }
   ],
   "source": [
    "val mat = matrix(100, 100)"
   ]
  },
  {
   "cell_type": "code",
   "execution_count": null,
   "metadata": {},
   "outputs": [],
   "source": []
  }
 ],
 "metadata": {
  "kernelspec": {
   "display_name": "Scala (2.13)",
   "language": "scala",
   "name": "scala213"
  },
  "language_info": {
   "codemirror_mode": "text/x-scala",
   "file_extension": ".scala",
   "mimetype": "text/x-scala",
   "name": "scala",
   "nbconvert_exporter": "script",
   "version": "2.13.1"
  },
  "toc": {
   "base_numbering": 1,
   "nav_menu": {},
   "number_sections": false,
   "sideBar": false,
   "skip_h1_title": false,
   "title_cell": "Table of Contents",
   "title_sidebar": "Contents",
   "toc_cell": false,
   "toc_position": {},
   "toc_section_display": false,
   "toc_window_display": false
  }
 },
 "nbformat": 4,
 "nbformat_minor": 4
}
