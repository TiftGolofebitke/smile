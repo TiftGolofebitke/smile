{
 "cells": [
  {
   "cell_type": "markdown",
   "metadata": {},
   "source": [
    "# Data Visualization with Vega\n",
    "\n",
    "A picture is worth a thousand words. In machine learning, we usually handle high-dimensional data, which is impossible to draw on display directly. But a variety of statistical plots are tremendously valuable for us to grasp the characteristics of many data points. Smile provides data visualization tools such as plots and maps for researchers to understand information more easily and quickly.\n",
    "\n",
    "Vega is a visualization grammar, a declarative language for creating, saving, and sharing interactive visualization designs. With Vega, you can describe the visual appearance and interactive behavior of a visualization in a JSON format, and generate web-based views using Canvas or SVG.\n",
    "\n",
    "Vega-Lite is a high-level grammar of interactive graphics. It provides a concise JSON syntax for rapidly generating visualizations to support analysis. Vega-Lite specifications can be compiled to Vega specifications.\n",
    "\n",
    "Smile provides some interactive statistical plots with latest Vega-Lite."
   ]
  },
  {
   "cell_type": "markdown",
   "metadata": {},
   "source": [
    "First, let's import Smile and also add an `implict` function to display Vega-Lite specification (a JSON object) in almond."
   ]
  },
  {
   "cell_type": "code",
   "execution_count": null,
   "metadata": {},
   "outputs": [],
   "source": [
    "import $ivy.`com.github.haifengl::smile-scala:2.1.0`\n",
    "import $ivy.`org.slf4j:slf4j-simple:1.7.26`  \n",
    "\n",
    "import java.lang.Math._\n",
    "import smile.json._\n",
    "import smile.plot.vega._\n",
    "import smile.plot.show\n",
    "import smile._\n",
    "\n",
    "implicit def display(spec: JsObject): Unit = {\n",
    "  publish.html(iframe(spec))\n",
    "}"
   ]
  },
  {
   "cell_type": "markdown",
   "metadata": {},
   "source": [
    "Now let's plot a heart. Math is beautiful, isn't it?"
   ]
  },
  {
   "cell_type": "code",
   "execution_count": null,
   "metadata": {},
   "outputs": [],
   "source": [
    "val heart = -314 to 314 map { i =>\n",
    "    val t = i / 100.0\n",
    "    val x = 16 * pow(sin(t), 3)\n",
    "    val y = 13 * cos(t) - 5 * cos(2*t) - 2 * cos(3*t) - cos(4*t)\n",
    "    Array(x, y)\n",
    "}\n",
    "\n",
    "show(plot(heart.toArray))"
   ]
  },
  {
   "cell_type": "markdown",
   "metadata": {},
   "source": [
    "Note that the function `plot` returns a `JsObject` that encapsulates the plot specification. The function `show` does the renderring job (with the help of implict argument `display` that we defined earlier)."
   ]
  },
  {
   "cell_type": "markdown",
   "metadata": {},
   "source": [
    "## Scatter Plot\n",
    "\n",
    "A scatter plot displays data as a collection of points. The points can be color-coded, which is very useful for classification tasks. The user can use `plot` functions to draw scatter plot easily.\n",
    "```\n",
    "def plot(data: Array[Array[Double]], legend: Char = '*', color: Color = BLACK): PlotCanvas\n",
    "\n",
    "def plot(data: Array[Array[Double]], labels: Array[String]): PlotCanvas\n",
    "\n",
    "def plot(data: Array[Array[Double]], label: Array[Int], legend: Char, palette: Array[Color]): PlotCanvas\n",
    "\n",
    "def plot(data: Array[Array[Double]], label: Array[Int], legend: Array[Char], palette: Array[Color]): PlotCanvas\n",
    "```"
   ]
  },
  {
   "cell_type": "code",
   "execution_count": null,
   "metadata": {},
   "outputs": [],
   "source": [
    "val iris = read.arff(\"data/weka/iris.arff\")\n",
    "/*\n",
    "val x = iris.select(0, 1).toArray\n",
    "val y = iris(\"class\").toIntArray\n",
    "val canvas = plot(x, y, Array('*', '+', 'o'), Array(RED, BLUE, CYAN))\n",
    "val names = iris.names\n",
    "canvas.setAxisLabels(names(0), names(1))\n",
    "show(canvas)\n",
    "*/"
   ]
  },
  {
   "cell_type": "markdown",
   "metadata": {},
   "source": [
    "In this example, we plot the first two columns of Iris data. We use the class label for legend and color coding. It is also easy to draw a 3D plot."
   ]
  },
  {
   "cell_type": "code",
   "execution_count": null,
   "metadata": {},
   "outputs": [],
   "source": [
    "val x = iris.select(0, 1, 2).toArray // take first three columns\n",
    "val canvas = plot(x, y, Array('*', '+', 'o'), Array(RED, BLUE, CYAN))\n",
    "canvas.setAxisLabels(names(0), names(1), names(2))\n",
    "show(canvas)"
   ]
  },
  {
   "cell_type": "markdown",
   "metadata": {},
   "source": [
    "However, the Iris data has four attributes. So even 3D plot is not sufficient to see the whole picture. A general practice is plot all the attribute pairs. For example,"
   ]
  },
  {
   "cell_type": "code",
   "execution_count": null,
   "metadata": {},
   "outputs": [],
   "source": [
    "show(spm(iris, clazz=Some(\"class\")))"
   ]
  },
  {
   "cell_type": "markdown",
   "metadata": {},
   "source": [
    "## Box Plot\n",
    "\n",
    "The box plot is a standardized way of displaying the distribution of data based on the five number summary: minimum, first quartile, median, third quartile, and maximum.\n",
    "\n",
    "Box plots can be useful to display differences between populations without making any assumptions of the underlying statistical distribution: they are non-parametric. The spacings between the different parts of the box help indicate the degree of dispersion (spread) and skewness in the data, and identify outliers."
   ]
  },
  {
   "cell_type": "code",
   "execution_count": null,
   "metadata": {},
   "outputs": [],
   "source": []
  }
 ],
 "metadata": {
  "kernelspec": {
   "display_name": "Scala (2.13)",
   "language": "scala",
   "name": "scala213"
  },
  "language_info": {
   "codemirror_mode": "text/x-scala",
   "file_extension": ".scala",
   "mimetype": "text/x-scala",
   "name": "scala",
   "nbconvert_exporter": "script",
   "version": "2.13.1"
  }
 },
 "nbformat": 4,
 "nbformat_minor": 4
}
